{
 "cells": [
  {
   "cell_type": "markdown",
   "id": "77bd651d-c961-46e5-9a8b-851ac2cfd2e2",
   "metadata": {},
   "source": [
    "# Microdesafio 1 : ChatGPT y el razonamiento lógico\n",
    "##### Resolucion de enigmas con chatGPT"
   ]
  },
  {
   "cell_type": "markdown",
   "id": "0d167188-08ce-4bd8-ade7-d3c3e00a77d7",
   "metadata": {},
   "source": [
    "#"
   ]
  },
  {
   "cell_type": "markdown",
   "id": "5ba6e8fe-81d1-42ca-90f7-d24c7f82e52a",
   "metadata": {},
   "source": [
    "## Situación 1\n",
    "\n",
    "Hay dos tipos de personas: uno que siempre dice la verdad, y otro que siempre miente. Una persona del primer grupo enuncia algo.\n",
    "\n",
    "##### Objetivo\n",
    "Debes desarrollar un prompt para que ChatGPT te indique si el enunciado es verdad o no.\n",
    "\n",
    "#### Solucion\n"
   ]
  },
  {
   "cell_type": "markdown",
   "id": "bc3ba987-a5a0-49fa-8465-5e9284214cc0",
   "metadata": {},
   "source": [
    "#"
   ]
  },
  {
   "cell_type": "markdown",
   "id": "34c0f01d-e6a8-4a70-ae8f-cf35228c0010",
   "metadata": {},
   "source": [
    "## Situación 2\n",
    "\n",
    "Una persona corre más rápido que otra, quien a su vez, corre más rápido que una tercera persona.\n",
    "\n",
    "##### Objetivo\n",
    "Debes desarrollar un prompt para que ChatGPT te indique quién corre más rápido y quién más lento.\n",
    "\n",
    "#### Solucion\n"
   ]
  },
  {
   "cell_type": "markdown",
   "id": "8e90168d-aa89-494a-838f-30ff1a02c8c0",
   "metadata": {},
   "source": [
    "#"
   ]
  },
  {
   "cell_type": "markdown",
   "id": "d90c5488-aa05-424f-af8e-ad69262d2b2d",
   "metadata": {},
   "source": [
    "## Situación 3\n",
    "\n",
    "Sabes que 5 gatos pueden cazar a 5 ratones en 5 minutos.\n",
    "\n",
    "##### Objetivo\n",
    "\n",
    "Debes desarrollar un prompt para que ChatGPT te indique cuánto tiempo se necesita para que 100 gatos cacen a 100 ratones.\n",
    "\n",
    "#### Solucion."
   ]
  }
 ],
 "metadata": {
  "kernelspec": {
   "display_name": "Python 3 (ipykernel)",
   "language": "python",
   "name": "python3"
  },
  "language_info": {
   "codemirror_mode": {
    "name": "ipython",
    "version": 3
   },
   "file_extension": ".py",
   "mimetype": "text/x-python",
   "name": "python",
   "nbconvert_exporter": "python",
   "pygments_lexer": "ipython3",
   "version": "3.10.13"
  }
 },
 "nbformat": 4,
 "nbformat_minor": 5
}
