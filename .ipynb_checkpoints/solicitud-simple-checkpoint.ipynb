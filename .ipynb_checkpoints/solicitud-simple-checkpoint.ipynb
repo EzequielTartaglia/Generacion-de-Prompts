{
 "cells": [
  {
   "cell_type": "markdown",
   "id": "f48d1e4f-5bf0-4291-9f10-e4fa452dfee6",
   "metadata": {},
   "source": [
    "1. Import openAI dependences (load with conda install openai)"
   ]
  },
  {
   "cell_type": "code",
   "execution_count": 1,
   "id": "6f5e6bba-f9b0-4d27-a0c2-ceede346e2fd",
   "metadata": {
    "scrolled": true
   },
   "outputs": [],
   "source": [
    "\n",
    "#Import openAI dependences (module)\n",
    "import openai"
   ]
  },
  {
   "cell_type": "markdown",
   "id": "6180968b-5de0-4e1d-91e1-bb0607b62ebe",
   "metadata": {},
   "source": [
    "2. Use the API Key from openAI page"
   ]
  },
  {
   "cell_type": "code",
   "execution_count": 6,
   "id": "aaa13f6c-6aee-4ddd-92b7-33dbbf66ea3c",
   "metadata": {},
   "outputs": [],
   "source": [
    "#Add our API Key copied from openAI page\n",
    "openai.api_key = \"\" #Example -> dw-bQyr9128F49VJRNKAnST32lbkFJ2Zv4qEhWo4R0Xh6yrh15"
   ]
  },
  {
   "cell_type": "markdown",
   "id": "133396b5-0a78-4b9a-a1c0-8c81d7744f9b",
   "metadata": {},
   "source": [
    "3. Make a request"
   ]
  },
  {
   "cell_type": "code",
   "execution_count": 7,
   "id": "f7c1fc76-a9ea-4df9-9324-d83bba8bfc0c",
   "metadata": {
    "scrolled": true
   },
   "outputs": [],
   "source": [
    "#Make the context of our prompt envoirement\n",
    "context = 'Eres una persona presente en la converzacion que no envia mensajes pero observa atentamente. Una vez enviada la converzacion, debes ejecutar un resumen del mismo para alguien que no estuvo presente'\n",
    "\n",
    "#prompt (text/user's question)\n",
    "prompt = \"\"\"\n",
    "[25/11/2018 18:15:52] Bitcoin Nea GENERAL: ‎Messages and calls are end-to-end encrypted. No one outside of this chat, not even WhatsApp, can read or listen to them.\n",
    "‎[29/10/2023 17:15:32] Gio Kilp: ‎image omitted\n",
    "[23/11/2023 21:04:24] ~ Bruno: Hola vendo 1174 usdt\n",
    "[24/11/2023 09:31:59] ~ PM: vendo\n",
    "‎[24/11/2023 09:32:00] ~ PM: ‎image omitted\n",
    "[24/11/2023 10:29:47] ~ PM: Alguien sabe cuanto esta el tipo de cambio comprando con tarjeta del exterior?\n",
    "[24/11/2023 10:29:48] ~ PM: en los ultimos días\n",
    "[24/11/2023 10:31:59] ~ Daniel Garcia: antes del 23 $765 x 1us\n",
    "despues el 23 $ 985 x us aprox,\n",
    "[24/11/2023 10:54:44] ~ Gabriel Martinez Canepa: Pregunto comprando con tarjeta _del exterior_\n",
    "[24/11/2023 10:55:41] ~ Gabriel Martinez Canepa: En si aumentaron los impuestos confiscatorios, no el valor de cambio a la hora de comprar con la tarjeta\n",
    "[24/11/2023 10:55:52] ~ Del Riccio Walter: multiplica por 967.71\n",
    "[24/11/2023 10:58:01] ~ Daniel Garcia: el cambio todos los dias va subiendo un poquito, antes del 20 estaba 365.50 hoy 372.50\n",
    "[24/11/2023 11:00:18] ~ Bruno Selliez: es eso\n",
    "[24/11/2023 11:04:15] ~ Martín Getzel: Entonces se multiplica el precio oficial al cierre de la tarjeta por 100 o 155 dependiendo del día en el que se haya hecho la compra?\n",
    "[24/11/2023 11:06:24] ~ Max: no, eso es por el dia en que te cobra la tarjeta\n",
    "[24/11/2023 11:06:27] ~ Max: asi que todo por 155\n",
    "[24/11/2023 11:06:35] ~ Max: no es por el dia de cierre\n",
    "[24/11/2023 11:06:49] ~ Max: este mes puede que te venga mas de tarjet que el limite que tenias\n",
    "[24/11/2023 11:06:54] ~ Max: por la burrada esa del gobierno\n",
    "[24/11/2023 11:16:20] ~ .: Ese impuesto se carga a las compras realizadas a partir del 23/11\n",
    "[24/11/2023 11:17:10] ~ .: Las compras anteriores al 23/11 no tienen que llevar el impuesto del 100% ‎<This message was edited>\n",
    "[24/11/2023 11:18:05] ~ Eugenio: Hermosa la data pero @5493624206645 preguntó por compras con tarjeta del exterior, no tarjetas nacionales.\n",
    "‎[24/11/2023 11:18:14] ~ Jose Cubilla: ‎image omitted\n",
    "[24/11/2023 11:19:36] ~ .: Los consumos que hagas en pesos tienen ese impuesto\n",
    "[24/11/2023 11:20:42] ~ .: Si tenes usd u otra divisa, el consumo no tiene esos impuestos\n",
    "[24/11/2023 11:21:44] ~ .: Todos los pagos de moneda extranjeta realizada con pesos argentinos tienen esos nuevos impuestos\n",
    "[24/11/2023 11:23:14] ~ Bruno Selliez: ya en este caso no tiene nada que ver la argentina\n",
    "[24/11/2023 11:23:16] ~ Bruno Selliez: 1 usd - 1 usd jajsj\n",
    "[24/11/2023 13:12:49] ~ Fernando Lopez: Vendo usdt por pesos físicos !\n",
    "[24/11/2023 14:02:00] ~ Fernando Lopez: Vendo usdt 970 !\n",
    "[24/11/2023 14:08:06] ~ Belen: Vendo 200 azules\n",
    "[24/11/2023 16:14:22] ~ Gonzalo Alonso: Alguien tira el cambio entonces comprando con tarjeta de afuera 🙌🏼 osea si realmente compro de esa forma ‎<This message was edited>\n",
    "[24/11/2023 16:16:05] ~ Juan Pablo Agustini: Vendo usdt 969,5\n",
    "‎[24/11/2023 16:22:54] ~ Fernando Lopez: ‎sticker omitted\n",
    "[24/11/2023 16:33:41] ~ Del Riccio Walter: buenas\n",
    "[24/11/2023 16:33:55] ~ Del Riccio Walter: alguno sabe si kucoin tiene sistema de transferencias internas, tipo binance por pay?\n",
    "[24/11/2023 16:37:12] ~ Max: Si tiene\n",
    "[24/11/2023 16:38:21] ~ Max: Anda a wallets, funding, withdrawal, elegí el token q queres mandar, y en vez de on chain pone internal\n",
    "‎[24/11/2023 16:38:46] ~ Max: ‎image omitted\n",
    "[24/11/2023 16:39:25] ~ Max: 10usd estoy cobrando las consultas\n",
    "‎[24/11/2023 16:39:50] ~ Del Riccio Walter: ‎sticker omitted\n",
    "[24/11/2023 18:12:16] ~ Juanjo: https://www.instagram.com/p/C0Cp8BnPbYl/?igshid=NmJiYWZiY2E0Mg==\n",
    "‎[24/11/2023 19:20:53] ~ .: ‎image omitted\n",
    "[24/11/2023 19:22:16] ~ .: Ayer 1 usd = 960,28 \n",
    "Hoy 1 usd = 961,57\n",
    "Mañana 1 usd = ∞\n",
    "‎[24/11/2023 19:22:50] ~ Del Riccio Walter: ‎sticker omitted\n",
    "[24/11/2023 19:23:48] ~ .: Eso con tarjeta de Argentina\n",
    "[24/11/2023 19:24:28] ~ .: Con tarjeta de afuera a qué te referís? Comprar teniendo dólares u otra divisa?\n",
    "[24/11/2023 19:25:43] ~ .: El impuesto aplica sólo a las compras de moneda extranjera que se hacen utilizando pesos\n",
    "‎[24/11/2023 19:40:17] ~ .: ‎image omitted\n",
    "‎[24/11/2023 19:45:11] ~ .: ‎image omitted\n",
    "\"\"\""
   ]
  },
  {
   "cell_type": "markdown",
   "id": "a42ce140-d99c-492e-ad64-9de2719ea75e",
   "metadata": {},
   "source": [
    "4. Settings"
   ]
  },
  {
   "cell_type": "code",
   "execution_count": 8,
   "id": "1ce51fc0-ce3e-4db1-8ab5-4d9447252af9",
   "metadata": {},
   "outputs": [
    {
     "name": "stdout",
     "output_type": "stream",
     "text": [
      "assistant: En esta conversación se abordaron diversos temas relacionados con la compra y venta de criptomonedas, así como el tipo de cambio al comprar con tarjeta del exterior.\n",
      "\n",
      "Se mencionó que el cambio en los últimos días ha estado alrededor de $985 por cada dólar, pero se aclaró que esto no se aplica a las tarjetas del exterior, ya que el aumento en los impuestos confiscatorios es solo para las tarjetas nacionales\n"
     ]
    }
   ],
   "source": [
    "# Make the request\n",
    "conversation = [\n",
    "    {\"role\": \"system\", \"content\": context},\n",
    "    {\"role\": \"user\", \"content\": prompt}\n",
    "]\n",
    "\n",
    "response = openai.ChatCompletion.create(\n",
    "    model='gpt-3.5-turbo',\n",
    "    messages=conversation,\n",
    "    max_tokens=100\n",
    ")\n",
    "\n",
    "message = response.choices[0]['message']\n",
    "print(\"{}: {}\".format(message['role'], message['content']))"
   ]
  },
  {
   "cell_type": "markdown",
   "id": "1e57d4c6-d1aa-48fc-80dd-530bfcebab65",
   "metadata": {},
   "source": [
    "5. Storage the response in any variable"
   ]
  },
  {
   "cell_type": "code",
   "execution_count": 9,
   "id": "abb2ce41-0dc8-46f9-8137-aca58604bcbf",
   "metadata": {},
   "outputs": [
    {
     "name": "stdout",
     "output_type": "stream",
     "text": [
      "El resumen de dicha converzacion es: En esta conversación se abordaron diversos temas relacionados con la compra y venta de criptomonedas, así como el tipo de cambio al comprar con tarjeta del exterior.\n",
      "\n",
      "Se mencionó que el cambio en los últimos días ha estado alrededor de $985 por cada dólar, pero se aclaró que esto no se aplica a las tarjetas del exterior, ya que el aumento en los impuestos confiscatorios es solo para las tarjetas nacionales\n"
     ]
    }
   ],
   "source": [
    "#Storage the response in a variable to use it\n",
    "primer_converzacion = response['choices'][0]['message']['content'].strip()\n",
    "\n",
    "#Use the variable\n",
    "print(\"El resumen de dicha converzacion es:\", primer_converzacion)\n"
   ]
  },
  {
   "cell_type": "code",
   "execution_count": null,
   "id": "319a0bbc-0af1-4006-aea0-78dc22675505",
   "metadata": {},
   "outputs": [],
   "source": []
  }
 ],
 "metadata": {
  "kernelspec": {
   "display_name": "Python 3 (ipykernel)",
   "language": "python",
   "name": "python3"
  },
  "language_info": {
   "codemirror_mode": {
    "name": "ipython",
    "version": 3
   },
   "file_extension": ".py",
   "mimetype": "text/x-python",
   "name": "python",
   "nbconvert_exporter": "python",
   "pygments_lexer": "ipython3",
   "version": "3.10.13"
  }
 },
 "nbformat": 4,
 "nbformat_minor": 5
}
