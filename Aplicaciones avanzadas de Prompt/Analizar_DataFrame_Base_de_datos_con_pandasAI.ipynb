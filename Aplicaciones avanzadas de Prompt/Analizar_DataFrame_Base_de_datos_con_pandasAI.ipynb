{
 "cells": [
  {
   "cell_type": "markdown",
   "id": "c5d8eb0f-683a-42b4-81f8-8cefdb5e2377",
   "metadata": {
    "id": "c5d8eb0f-683a-42b4-81f8-8cefdb5e2377"
   },
   "source": [
    "# PandasAI"
   ]
  },
  {
   "cell_type": "markdown",
   "id": "7222c4c1-e374-437a-9123-bba5d7c20d3d",
   "metadata": {
    "id": "7222c4c1-e374-437a-9123-bba5d7c20d3d"
   },
   "source": [
    "Fusión de las capacidades de la biblioteca \"pandas\" de Python con aplicaciones relacionadas con la inteligencia artificial. Puede ser utilizado en el contexto de desarrollo de soluciones que involucran análisis de datos utilizando pandas y técnicas de inteligencia artificial."
   ]
  },
  {
   "cell_type": "markdown",
   "id": "b72d6510-92bc-4de4-9e11-21324c5d896d",
   "metadata": {
    "id": "b72d6510-92bc-4de4-9e11-21324c5d896d"
   },
   "source": [
    "#### Lab"
   ]
  },
  {
   "cell_type": "code",
   "execution_count": 1,
   "id": "Sgifc74lWDsK",
   "metadata": {
    "colab": {
     "base_uri": "https://localhost:8080/"
    },
    "id": "Sgifc74lWDsK",
    "outputId": "aabb6d5f-ad1d-4394-b8c3-d5053dc0bd52"
   },
   "outputs": [
    {
     "name": "stdout",
     "output_type": "stream",
     "text": [
      "Requirement already satisfied: pandasai in c:\\users\\ezequiel\\.conda\\envs\\generacion-de-prompts\\lib\\site-packages (1.5.18)\n",
      "Requirement already satisfied: astor<0.9.0,>=0.8.1 in c:\\users\\ezequiel\\.conda\\envs\\generacion-de-prompts\\lib\\site-packages (from pandasai) (0.8.1)\n",
      "Requirement already satisfied: duckdb<0.10.0,>=0.9.2 in c:\\users\\ezequiel\\.conda\\envs\\generacion-de-prompts\\lib\\site-packages (from pandasai) (0.9.2)\n",
      "Requirement already satisfied: faker<20.0.0,>=19.12.0 in c:\\users\\ezequiel\\.conda\\envs\\generacion-de-prompts\\lib\\site-packages (from pandasai) (19.13.0)\n",
      "Requirement already satisfied: ipython<9.0.0,>=8.13.1 in c:\\users\\ezequiel\\.conda\\envs\\generacion-de-prompts\\lib\\site-packages (from pandasai) (8.18.1)\n",
      "Requirement already satisfied: matplotlib<4.0.0,>=3.7.1 in c:\\users\\ezequiel\\.conda\\envs\\generacion-de-prompts\\lib\\site-packages (from pandasai) (3.8.2)\n",
      "Requirement already satisfied: openai<2 in c:\\users\\ezequiel\\.conda\\envs\\generacion-de-prompts\\lib\\site-packages (from pandasai) (0.28.0)\n",
      "Requirement already satisfied: pandas==1.5.3 in c:\\users\\ezequiel\\.conda\\envs\\generacion-de-prompts\\lib\\site-packages (from pandasai) (1.5.3)\n",
      "Requirement already satisfied: pillow<11.0.0,>=10.1.0 in c:\\users\\ezequiel\\.conda\\envs\\generacion-de-prompts\\lib\\site-packages (from pandasai) (10.2.0)\n",
      "Requirement already satisfied: pydantic<2,>=1 in c:\\users\\ezequiel\\.conda\\envs\\generacion-de-prompts\\lib\\site-packages (from pandasai) (1.10.14)\n",
      "Requirement already satisfied: python-dotenv<2.0.0,>=1.0.0 in c:\\users\\ezequiel\\.conda\\envs\\generacion-de-prompts\\lib\\site-packages (from pandasai) (1.0.1)\n",
      "Requirement already satisfied: scipy<2.0.0,>=1.9.0 in c:\\users\\ezequiel\\.conda\\envs\\generacion-de-prompts\\lib\\site-packages (from pandasai) (1.12.0)\n",
      "Requirement already satisfied: sqlalchemy<3,>=1.4 in c:\\users\\ezequiel\\.conda\\envs\\generacion-de-prompts\\lib\\site-packages (from pandasai) (2.0.25)\n",
      "Requirement already satisfied: python-dateutil>=2.8.1 in c:\\users\\ezequiel\\.conda\\envs\\generacion-de-prompts\\lib\\site-packages (from pandas==1.5.3->pandasai) (2.8.2)\n",
      "Requirement already satisfied: pytz>=2020.1 in c:\\users\\ezequiel\\.conda\\envs\\generacion-de-prompts\\lib\\site-packages (from pandas==1.5.3->pandasai) (2023.3.post1)\n",
      "Requirement already satisfied: numpy>=1.21.0 in c:\\users\\ezequiel\\.conda\\envs\\generacion-de-prompts\\lib\\site-packages (from pandas==1.5.3->pandasai) (1.26.2)\n",
      "Requirement already satisfied: decorator in c:\\users\\ezequiel\\.conda\\envs\\generacion-de-prompts\\lib\\site-packages (from ipython<9.0.0,>=8.13.1->pandasai) (5.1.1)\n",
      "Requirement already satisfied: jedi>=0.16 in c:\\users\\ezequiel\\.conda\\envs\\generacion-de-prompts\\lib\\site-packages (from ipython<9.0.0,>=8.13.1->pandasai) (0.19.1)\n",
      "Requirement already satisfied: matplotlib-inline in c:\\users\\ezequiel\\.conda\\envs\\generacion-de-prompts\\lib\\site-packages (from ipython<9.0.0,>=8.13.1->pandasai) (0.1.6)\n",
      "Requirement already satisfied: prompt-toolkit<3.1.0,>=3.0.41 in c:\\users\\ezequiel\\.conda\\envs\\generacion-de-prompts\\lib\\site-packages (from ipython<9.0.0,>=8.13.1->pandasai) (3.0.43)\n",
      "Requirement already satisfied: pygments>=2.4.0 in c:\\users\\ezequiel\\.conda\\envs\\generacion-de-prompts\\lib\\site-packages (from ipython<9.0.0,>=8.13.1->pandasai) (2.17.2)\n",
      "Requirement already satisfied: stack-data in c:\\users\\ezequiel\\.conda\\envs\\generacion-de-prompts\\lib\\site-packages (from ipython<9.0.0,>=8.13.1->pandasai) (0.6.3)\n",
      "Requirement already satisfied: traitlets>=5 in c:\\users\\ezequiel\\.conda\\envs\\generacion-de-prompts\\lib\\site-packages (from ipython<9.0.0,>=8.13.1->pandasai) (5.14.0)\n",
      "Requirement already satisfied: exceptiongroup in c:\\users\\ezequiel\\.conda\\envs\\generacion-de-prompts\\lib\\site-packages (from ipython<9.0.0,>=8.13.1->pandasai) (1.2.0)\n",
      "Requirement already satisfied: colorama in c:\\users\\ezequiel\\.conda\\envs\\generacion-de-prompts\\lib\\site-packages (from ipython<9.0.0,>=8.13.1->pandasai) (0.4.6)\n",
      "Requirement already satisfied: contourpy>=1.0.1 in c:\\users\\ezequiel\\.conda\\envs\\generacion-de-prompts\\lib\\site-packages (from matplotlib<4.0.0,>=3.7.1->pandasai) (1.2.0)\n",
      "Requirement already satisfied: cycler>=0.10 in c:\\users\\ezequiel\\.conda\\envs\\generacion-de-prompts\\lib\\site-packages (from matplotlib<4.0.0,>=3.7.1->pandasai) (0.12.1)\n",
      "Requirement already satisfied: fonttools>=4.22.0 in c:\\users\\ezequiel\\.conda\\envs\\generacion-de-prompts\\lib\\site-packages (from matplotlib<4.0.0,>=3.7.1->pandasai) (4.47.2)\n",
      "Requirement already satisfied: kiwisolver>=1.3.1 in c:\\users\\ezequiel\\.conda\\envs\\generacion-de-prompts\\lib\\site-packages (from matplotlib<4.0.0,>=3.7.1->pandasai) (1.4.5)\n",
      "Requirement already satisfied: packaging>=20.0 in c:\\users\\ezequiel\\.conda\\envs\\generacion-de-prompts\\lib\\site-packages (from matplotlib<4.0.0,>=3.7.1->pandasai) (23.1)\n",
      "Requirement already satisfied: pyparsing>=2.3.1 in c:\\users\\ezequiel\\.conda\\envs\\generacion-de-prompts\\lib\\site-packages (from matplotlib<4.0.0,>=3.7.1->pandasai) (3.1.1)\n",
      "Requirement already satisfied: requests>=2.20 in c:\\users\\ezequiel\\.conda\\envs\\generacion-de-prompts\\lib\\site-packages (from openai<2->pandasai) (2.31.0)\n",
      "Requirement already satisfied: tqdm in c:\\users\\ezequiel\\.conda\\envs\\generacion-de-prompts\\lib\\site-packages (from openai<2->pandasai) (4.65.0)\n",
      "Requirement already satisfied: aiohttp in c:\\users\\ezequiel\\.conda\\envs\\generacion-de-prompts\\lib\\site-packages (from openai<2->pandasai) (3.9.1)\n",
      "Requirement already satisfied: typing-extensions>=4.2.0 in c:\\users\\ezequiel\\.conda\\envs\\generacion-de-prompts\\lib\\site-packages (from pydantic<2,>=1->pandasai) (4.9.0)\n",
      "Requirement already satisfied: greenlet!=0.4.17 in c:\\users\\ezequiel\\.conda\\envs\\generacion-de-prompts\\lib\\site-packages (from sqlalchemy<3,>=1.4->pandasai) (3.0.3)\n",
      "Requirement already satisfied: parso<0.9.0,>=0.8.3 in c:\\users\\ezequiel\\.conda\\envs\\generacion-de-prompts\\lib\\site-packages (from jedi>=0.16->ipython<9.0.0,>=8.13.1->pandasai) (0.8.3)\n",
      "Requirement already satisfied: wcwidth in c:\\users\\ezequiel\\.conda\\envs\\generacion-de-prompts\\lib\\site-packages (from prompt-toolkit<3.1.0,>=3.0.41->ipython<9.0.0,>=8.13.1->pandasai) (0.2.12)\n",
      "Requirement already satisfied: six>=1.5 in c:\\users\\ezequiel\\.conda\\envs\\generacion-de-prompts\\lib\\site-packages (from python-dateutil>=2.8.1->pandas==1.5.3->pandasai) (1.16.0)\n",
      "Requirement already satisfied: charset-normalizer<4,>=2 in c:\\users\\ezequiel\\.conda\\envs\\generacion-de-prompts\\lib\\site-packages (from requests>=2.20->openai<2->pandasai) (2.0.4)\n",
      "Requirement already satisfied: idna<4,>=2.5 in c:\\users\\ezequiel\\.conda\\envs\\generacion-de-prompts\\lib\\site-packages (from requests>=2.20->openai<2->pandasai) (3.4)\n",
      "Requirement already satisfied: urllib3<3,>=1.21.1 in c:\\users\\ezequiel\\.conda\\envs\\generacion-de-prompts\\lib\\site-packages (from requests>=2.20->openai<2->pandasai) (1.26.18)\n",
      "Requirement already satisfied: certifi>=2017.4.17 in c:\\users\\ezequiel\\.conda\\envs\\generacion-de-prompts\\lib\\site-packages (from requests>=2.20->openai<2->pandasai) (2024.8.30)\n",
      "Requirement already satisfied: attrs>=17.3.0 in c:\\users\\ezequiel\\.conda\\envs\\generacion-de-prompts\\lib\\site-packages (from aiohttp->openai<2->pandasai) (23.1.0)\n",
      "Requirement already satisfied: multidict<7.0,>=4.5 in c:\\users\\ezequiel\\.conda\\envs\\generacion-de-prompts\\lib\\site-packages (from aiohttp->openai<2->pandasai) (6.0.4)\n",
      "Requirement already satisfied: yarl<2.0,>=1.0 in c:\\users\\ezequiel\\.conda\\envs\\generacion-de-prompts\\lib\\site-packages (from aiohttp->openai<2->pandasai) (1.9.4)\n",
      "Requirement already satisfied: frozenlist>=1.1.1 in c:\\users\\ezequiel\\.conda\\envs\\generacion-de-prompts\\lib\\site-packages (from aiohttp->openai<2->pandasai) (1.4.1)\n",
      "Requirement already satisfied: aiosignal>=1.1.2 in c:\\users\\ezequiel\\.conda\\envs\\generacion-de-prompts\\lib\\site-packages (from aiohttp->openai<2->pandasai) (1.3.1)\n",
      "Requirement already satisfied: async-timeout<5.0,>=4.0 in c:\\users\\ezequiel\\.conda\\envs\\generacion-de-prompts\\lib\\site-packages (from aiohttp->openai<2->pandasai) (4.0.3)\n",
      "Requirement already satisfied: executing>=1.2.0 in c:\\users\\ezequiel\\.conda\\envs\\generacion-de-prompts\\lib\\site-packages (from stack-data->ipython<9.0.0,>=8.13.1->pandasai) (2.0.1)\n",
      "Requirement already satisfied: asttokens>=2.1.0 in c:\\users\\ezequiel\\.conda\\envs\\generacion-de-prompts\\lib\\site-packages (from stack-data->ipython<9.0.0,>=8.13.1->pandasai) (2.4.1)\n",
      "Requirement already satisfied: pure-eval in c:\\users\\ezequiel\\.conda\\envs\\generacion-de-prompts\\lib\\site-packages (from stack-data->ipython<9.0.0,>=8.13.1->pandasai) (0.2.2)\n",
      "Requirement already satisfied: pandas in c:\\users\\ezequiel\\.conda\\envs\\generacion-de-prompts\\lib\\site-packages (1.5.3)\n",
      "Requirement already satisfied: python-dateutil>=2.8.1 in c:\\users\\ezequiel\\.conda\\envs\\generacion-de-prompts\\lib\\site-packages (from pandas) (2.8.2)\n",
      "Requirement already satisfied: pytz>=2020.1 in c:\\users\\ezequiel\\.conda\\envs\\generacion-de-prompts\\lib\\site-packages (from pandas) (2023.3.post1)\n",
      "Requirement already satisfied: numpy>=1.21.0 in c:\\users\\ezequiel\\.conda\\envs\\generacion-de-prompts\\lib\\site-packages (from pandas) (1.26.2)\n",
      "Requirement already satisfied: six>=1.5 in c:\\users\\ezequiel\\.conda\\envs\\generacion-de-prompts\\lib\\site-packages (from python-dateutil>=2.8.1->pandas) (1.16.0)\n",
      "Requirement already satisfied: openai==0.28 in c:\\users\\ezequiel\\.conda\\envs\\generacion-de-prompts\\lib\\site-packages (0.28.0)\n",
      "Requirement already satisfied: requests>=2.20 in c:\\users\\ezequiel\\.conda\\envs\\generacion-de-prompts\\lib\\site-packages (from openai==0.28) (2.31.0)\n",
      "Requirement already satisfied: tqdm in c:\\users\\ezequiel\\.conda\\envs\\generacion-de-prompts\\lib\\site-packages (from openai==0.28) (4.65.0)\n",
      "Requirement already satisfied: aiohttp in c:\\users\\ezequiel\\.conda\\envs\\generacion-de-prompts\\lib\\site-packages (from openai==0.28) (3.9.1)\n",
      "Requirement already satisfied: charset-normalizer<4,>=2 in c:\\users\\ezequiel\\.conda\\envs\\generacion-de-prompts\\lib\\site-packages (from requests>=2.20->openai==0.28) (2.0.4)\n",
      "Requirement already satisfied: idna<4,>=2.5 in c:\\users\\ezequiel\\.conda\\envs\\generacion-de-prompts\\lib\\site-packages (from requests>=2.20->openai==0.28) (3.4)\n",
      "Requirement already satisfied: urllib3<3,>=1.21.1 in c:\\users\\ezequiel\\.conda\\envs\\generacion-de-prompts\\lib\\site-packages (from requests>=2.20->openai==0.28) (1.26.18)\n",
      "Requirement already satisfied: certifi>=2017.4.17 in c:\\users\\ezequiel\\.conda\\envs\\generacion-de-prompts\\lib\\site-packages (from requests>=2.20->openai==0.28) (2024.8.30)\n",
      "Requirement already satisfied: attrs>=17.3.0 in c:\\users\\ezequiel\\.conda\\envs\\generacion-de-prompts\\lib\\site-packages (from aiohttp->openai==0.28) (23.1.0)\n",
      "Requirement already satisfied: multidict<7.0,>=4.5 in c:\\users\\ezequiel\\.conda\\envs\\generacion-de-prompts\\lib\\site-packages (from aiohttp->openai==0.28) (6.0.4)\n",
      "Requirement already satisfied: yarl<2.0,>=1.0 in c:\\users\\ezequiel\\.conda\\envs\\generacion-de-prompts\\lib\\site-packages (from aiohttp->openai==0.28) (1.9.4)\n",
      "Requirement already satisfied: frozenlist>=1.1.1 in c:\\users\\ezequiel\\.conda\\envs\\generacion-de-prompts\\lib\\site-packages (from aiohttp->openai==0.28) (1.4.1)\n",
      "Requirement already satisfied: aiosignal>=1.1.2 in c:\\users\\ezequiel\\.conda\\envs\\generacion-de-prompts\\lib\\site-packages (from aiohttp->openai==0.28) (1.3.1)\n",
      "Requirement already satisfied: async-timeout<5.0,>=4.0 in c:\\users\\ezequiel\\.conda\\envs\\generacion-de-prompts\\lib\\site-packages (from aiohttp->openai==0.28) (4.0.3)\n",
      "Requirement already satisfied: colorama in c:\\users\\ezequiel\\.conda\\envs\\generacion-de-prompts\\lib\\site-packages (from tqdm->openai==0.28) (0.4.6)\n",
      "Requirement already satisfied: OpenAI in c:\\users\\ezequiel\\.conda\\envs\\generacion-de-prompts\\lib\\site-packages (0.28.0)\n",
      "Requirement already satisfied: requests>=2.20 in c:\\users\\ezequiel\\.conda\\envs\\generacion-de-prompts\\lib\\site-packages (from OpenAI) (2.31.0)\n",
      "Requirement already satisfied: tqdm in c:\\users\\ezequiel\\.conda\\envs\\generacion-de-prompts\\lib\\site-packages (from OpenAI) (4.65.0)\n",
      "Requirement already satisfied: aiohttp in c:\\users\\ezequiel\\.conda\\envs\\generacion-de-prompts\\lib\\site-packages (from OpenAI) (3.9.1)\n",
      "Requirement already satisfied: charset-normalizer<4,>=2 in c:\\users\\ezequiel\\.conda\\envs\\generacion-de-prompts\\lib\\site-packages (from requests>=2.20->OpenAI) (2.0.4)\n",
      "Requirement already satisfied: idna<4,>=2.5 in c:\\users\\ezequiel\\.conda\\envs\\generacion-de-prompts\\lib\\site-packages (from requests>=2.20->OpenAI) (3.4)\n",
      "Requirement already satisfied: urllib3<3,>=1.21.1 in c:\\users\\ezequiel\\.conda\\envs\\generacion-de-prompts\\lib\\site-packages (from requests>=2.20->OpenAI) (1.26.18)\n",
      "Requirement already satisfied: certifi>=2017.4.17 in c:\\users\\ezequiel\\.conda\\envs\\generacion-de-prompts\\lib\\site-packages (from requests>=2.20->OpenAI) (2024.8.30)\n",
      "Requirement already satisfied: attrs>=17.3.0 in c:\\users\\ezequiel\\.conda\\envs\\generacion-de-prompts\\lib\\site-packages (from aiohttp->OpenAI) (23.1.0)\n",
      "Requirement already satisfied: multidict<7.0,>=4.5 in c:\\users\\ezequiel\\.conda\\envs\\generacion-de-prompts\\lib\\site-packages (from aiohttp->OpenAI) (6.0.4)\n",
      "Requirement already satisfied: yarl<2.0,>=1.0 in c:\\users\\ezequiel\\.conda\\envs\\generacion-de-prompts\\lib\\site-packages (from aiohttp->OpenAI) (1.9.4)\n",
      "Requirement already satisfied: frozenlist>=1.1.1 in c:\\users\\ezequiel\\.conda\\envs\\generacion-de-prompts\\lib\\site-packages (from aiohttp->OpenAI) (1.4.1)\n",
      "Requirement already satisfied: aiosignal>=1.1.2 in c:\\users\\ezequiel\\.conda\\envs\\generacion-de-prompts\\lib\\site-packages (from aiohttp->OpenAI) (1.3.1)\n",
      "Requirement already satisfied: async-timeout<5.0,>=4.0 in c:\\users\\ezequiel\\.conda\\envs\\generacion-de-prompts\\lib\\site-packages (from aiohttp->OpenAI) (4.0.3)\n",
      "Requirement already satisfied: colorama in c:\\users\\ezequiel\\.conda\\envs\\generacion-de-prompts\\lib\\site-packages (from tqdm->OpenAI) (0.4.6)\n"
     ]
    }
   ],
   "source": [
    "!pip install pandasai\n",
    "!pip install pandas\n",
    "!pip install openai==0.28\n",
    "!pip install OpenAI"
   ]
  },
  {
   "cell_type": "markdown",
   "id": "f48d1e4f-5bf0-4291-9f10-e4fa452dfee6",
   "metadata": {
    "id": "f48d1e4f-5bf0-4291-9f10-e4fa452dfee6"
   },
   "source": [
    "1. Import openAI dependences (load with conda install openai)"
   ]
  },
  {
   "cell_type": "code",
   "execution_count": 2,
   "id": "6f5e6bba-f9b0-4d27-a0c2-ceede346e2fd",
   "metadata": {
    "id": "6f5e6bba-f9b0-4d27-a0c2-ceede346e2fd",
    "scrolled": true
   },
   "outputs": [],
   "source": [
    "from pandasai import SmartDataframe\n",
    "import pandas as pd\n",
    "from pandasai.llm import OpenAI\n",
    "import warnings"
   ]
  },
  {
   "cell_type": "markdown",
   "id": "6180968b-5de0-4e1d-91e1-bb0607b62ebe",
   "metadata": {
    "id": "6180968b-5de0-4e1d-91e1-bb0607b62ebe"
   },
   "source": [
    "2. Use the API Key from openAI page"
   ]
  },
  {
   "cell_type": "code",
   "execution_count": 3,
   "id": "aaa13f6c-6aee-4ddd-92b7-33dbbf66ea3c",
   "metadata": {
    "id": "aaa13f6c-6aee-4ddd-92b7-33dbbf66ea3c"
   },
   "outputs": [],
   "source": [
    "#Add our API Key copied from openAI page\n",
    "llm = OpenAI(api_token=\"\")\n"
   ]
  },
  {
   "cell_type": "markdown",
   "id": "709e0d6a-667d-4335-812c-861623de127a",
   "metadata": {
    "id": "709e0d6a-667d-4335-812c-861623de127a"
   },
   "source": [
    "3. Set other settings of envoirement"
   ]
  },
  {
   "cell_type": "code",
   "execution_count": 4,
   "id": "12daa47a-d6c7-42ce-8dbc-844d06ff5a66",
   "metadata": {
    "id": "12daa47a-d6c7-42ce-8dbc-844d06ff5a66"
   },
   "outputs": [],
   "source": [
    "# Source to download the DataFrame: https://www.kaggle.com/datasets/borismarjanovic/price-volume-data-for-all-us-stocks-etfs\n",
    "\n",
    "# Complete route (once you download previously)\n",
    "#csv_file = r\"C:\\Users\\Ezequiel\\Desktop\\Proyectos\\Coderhouse\\Generacion de Prompts\\Aplicaciones avanzadas de Prompt\\vgchartz-2024.csv\"\n",
    "csv_file = \"vgchartz-2024.csv\"\n",
    "\n",
    "# Read the file as a DataFrame\n",
    "df_from_csv_file = pd.read_csv(csv_file)\n"
   ]
  },
  {
   "cell_type": "code",
   "execution_count": 5,
   "id": "f7c1fc76-a9ea-4df9-9324-d83bba8bfc0c",
   "metadata": {
    "colab": {
     "base_uri": "https://localhost:8080/",
     "height": 738
    },
    "id": "f7c1fc76-a9ea-4df9-9324-d83bba8bfc0c",
    "outputId": "dbdef829-d86b-40e1-a409-aae8b2bd05a8",
    "scrolled": true
   },
   "outputs": [
    {
     "data": {
      "text/html": [
       "<div>\n",
       "<style scoped>\n",
       "    .dataframe tbody tr th:only-of-type {\n",
       "        vertical-align: middle;\n",
       "    }\n",
       "\n",
       "    .dataframe tbody tr th {\n",
       "        vertical-align: top;\n",
       "    }\n",
       "\n",
       "    .dataframe thead th {\n",
       "        text-align: right;\n",
       "    }\n",
       "</style>\n",
       "<table border=\"1\" class=\"dataframe\">\n",
       "  <thead>\n",
       "    <tr style=\"text-align: right;\">\n",
       "      <th></th>\n",
       "      <th>img</th>\n",
       "      <th>title</th>\n",
       "      <th>console</th>\n",
       "      <th>genre</th>\n",
       "      <th>publisher</th>\n",
       "      <th>developer</th>\n",
       "      <th>critic_score</th>\n",
       "      <th>total_sales</th>\n",
       "      <th>na_sales</th>\n",
       "      <th>jp_sales</th>\n",
       "      <th>pal_sales</th>\n",
       "      <th>other_sales</th>\n",
       "      <th>release_date</th>\n",
       "      <th>last_update</th>\n",
       "    </tr>\n",
       "  </thead>\n",
       "  <tbody>\n",
       "    <tr>\n",
       "      <th>0</th>\n",
       "      <td>/games/boxart/full_6510540AmericaFrontccc.jpg</td>\n",
       "      <td>Grand Theft Auto V</td>\n",
       "      <td>PS3</td>\n",
       "      <td>Action</td>\n",
       "      <td>Rockstar Games</td>\n",
       "      <td>Rockstar North</td>\n",
       "      <td>9.4</td>\n",
       "      <td>20.32</td>\n",
       "      <td>6.37</td>\n",
       "      <td>0.99</td>\n",
       "      <td>9.85</td>\n",
       "      <td>3.12</td>\n",
       "      <td>2013-09-17</td>\n",
       "      <td>NaN</td>\n",
       "    </tr>\n",
       "    <tr>\n",
       "      <th>1</th>\n",
       "      <td>/games/boxart/full_5563178AmericaFrontccc.jpg</td>\n",
       "      <td>Grand Theft Auto V</td>\n",
       "      <td>PS4</td>\n",
       "      <td>Action</td>\n",
       "      <td>Rockstar Games</td>\n",
       "      <td>Rockstar North</td>\n",
       "      <td>9.7</td>\n",
       "      <td>19.39</td>\n",
       "      <td>6.06</td>\n",
       "      <td>0.60</td>\n",
       "      <td>9.71</td>\n",
       "      <td>3.02</td>\n",
       "      <td>2014-11-18</td>\n",
       "      <td>2018-01-03</td>\n",
       "    </tr>\n",
       "    <tr>\n",
       "      <th>2</th>\n",
       "      <td>/games/boxart/827563ccc.jpg</td>\n",
       "      <td>Grand Theft Auto: Vice City</td>\n",
       "      <td>PS2</td>\n",
       "      <td>Action</td>\n",
       "      <td>Rockstar Games</td>\n",
       "      <td>Rockstar North</td>\n",
       "      <td>9.6</td>\n",
       "      <td>16.15</td>\n",
       "      <td>8.41</td>\n",
       "      <td>0.47</td>\n",
       "      <td>5.49</td>\n",
       "      <td>1.78</td>\n",
       "      <td>2002-10-28</td>\n",
       "      <td>NaN</td>\n",
       "    </tr>\n",
       "    <tr>\n",
       "      <th>3</th>\n",
       "      <td>/games/boxart/full_9218923AmericaFrontccc.jpg</td>\n",
       "      <td>Grand Theft Auto V</td>\n",
       "      <td>X360</td>\n",
       "      <td>Action</td>\n",
       "      <td>Rockstar Games</td>\n",
       "      <td>Rockstar North</td>\n",
       "      <td>NaN</td>\n",
       "      <td>15.86</td>\n",
       "      <td>9.06</td>\n",
       "      <td>0.06</td>\n",
       "      <td>5.33</td>\n",
       "      <td>1.42</td>\n",
       "      <td>2013-09-17</td>\n",
       "      <td>NaN</td>\n",
       "    </tr>\n",
       "    <tr>\n",
       "      <th>4</th>\n",
       "      <td>/games/boxart/full_4990510AmericaFrontccc.jpg</td>\n",
       "      <td>Call of Duty: Black Ops 3</td>\n",
       "      <td>PS4</td>\n",
       "      <td>Shooter</td>\n",
       "      <td>Activision</td>\n",
       "      <td>Treyarch</td>\n",
       "      <td>8.1</td>\n",
       "      <td>15.09</td>\n",
       "      <td>6.18</td>\n",
       "      <td>0.41</td>\n",
       "      <td>6.05</td>\n",
       "      <td>2.44</td>\n",
       "      <td>2015-11-06</td>\n",
       "      <td>2018-01-14</td>\n",
       "    </tr>\n",
       "    <tr>\n",
       "      <th>...</th>\n",
       "      <td>...</td>\n",
       "      <td>...</td>\n",
       "      <td>...</td>\n",
       "      <td>...</td>\n",
       "      <td>...</td>\n",
       "      <td>...</td>\n",
       "      <td>...</td>\n",
       "      <td>...</td>\n",
       "      <td>...</td>\n",
       "      <td>...</td>\n",
       "      <td>...</td>\n",
       "      <td>...</td>\n",
       "      <td>...</td>\n",
       "      <td>...</td>\n",
       "    </tr>\n",
       "    <tr>\n",
       "      <th>64011</th>\n",
       "      <td>/games/boxart/full_2779838AmericaFrontccc.jpg</td>\n",
       "      <td>XBlaze Lost: Memories</td>\n",
       "      <td>PC</td>\n",
       "      <td>Visual Novel</td>\n",
       "      <td>Aksys Games</td>\n",
       "      <td>Arc System Works</td>\n",
       "      <td>NaN</td>\n",
       "      <td>NaN</td>\n",
       "      <td>NaN</td>\n",
       "      <td>NaN</td>\n",
       "      <td>NaN</td>\n",
       "      <td>NaN</td>\n",
       "      <td>2016-08-11</td>\n",
       "      <td>2019-01-28</td>\n",
       "    </tr>\n",
       "    <tr>\n",
       "      <th>64012</th>\n",
       "      <td>/games/boxart/full_8031506AmericaFrontccc.jpg</td>\n",
       "      <td>Yoru, Tomosu</td>\n",
       "      <td>PS4</td>\n",
       "      <td>Visual Novel</td>\n",
       "      <td>Nippon Ichi Software</td>\n",
       "      <td>Nippon Ichi Software</td>\n",
       "      <td>NaN</td>\n",
       "      <td>NaN</td>\n",
       "      <td>NaN</td>\n",
       "      <td>NaN</td>\n",
       "      <td>NaN</td>\n",
       "      <td>NaN</td>\n",
       "      <td>2020-07-30</td>\n",
       "      <td>2020-05-09</td>\n",
       "    </tr>\n",
       "    <tr>\n",
       "      <th>64013</th>\n",
       "      <td>/games/boxart/full_6553045AmericaFrontccc.jpg</td>\n",
       "      <td>Yoru, Tomosu</td>\n",
       "      <td>NS</td>\n",
       "      <td>Visual Novel</td>\n",
       "      <td>Nippon Ichi Software</td>\n",
       "      <td>Nippon Ichi Software</td>\n",
       "      <td>NaN</td>\n",
       "      <td>NaN</td>\n",
       "      <td>NaN</td>\n",
       "      <td>NaN</td>\n",
       "      <td>NaN</td>\n",
       "      <td>NaN</td>\n",
       "      <td>2020-07-30</td>\n",
       "      <td>2020-05-09</td>\n",
       "    </tr>\n",
       "    <tr>\n",
       "      <th>64014</th>\n",
       "      <td>/games/boxart/full_6012940JapanFrontccc.png</td>\n",
       "      <td>Yunohana SpRING! ~Mellow Times~</td>\n",
       "      <td>NS</td>\n",
       "      <td>Visual Novel</td>\n",
       "      <td>Idea Factory</td>\n",
       "      <td>Otomate</td>\n",
       "      <td>NaN</td>\n",
       "      <td>NaN</td>\n",
       "      <td>NaN</td>\n",
       "      <td>NaN</td>\n",
       "      <td>NaN</td>\n",
       "      <td>NaN</td>\n",
       "      <td>2019-02-28</td>\n",
       "      <td>2019-02-24</td>\n",
       "    </tr>\n",
       "    <tr>\n",
       "      <th>64015</th>\n",
       "      <td>/games/boxart/default.jpg</td>\n",
       "      <td>Yurukill: The Calumniation Games</td>\n",
       "      <td>PS4</td>\n",
       "      <td>Visual Novel</td>\n",
       "      <td>Unknown</td>\n",
       "      <td>G.rev Ltd.</td>\n",
       "      <td>NaN</td>\n",
       "      <td>NaN</td>\n",
       "      <td>NaN</td>\n",
       "      <td>NaN</td>\n",
       "      <td>NaN</td>\n",
       "      <td>NaN</td>\n",
       "      <td>NaN</td>\n",
       "      <td>2023-09-29</td>\n",
       "    </tr>\n",
       "  </tbody>\n",
       "</table>\n",
       "<p>64016 rows × 14 columns</p>\n",
       "</div>"
      ],
      "text/plain": [
       "                                                 img  \\\n",
       "0      /games/boxart/full_6510540AmericaFrontccc.jpg   \n",
       "1      /games/boxart/full_5563178AmericaFrontccc.jpg   \n",
       "2                        /games/boxart/827563ccc.jpg   \n",
       "3      /games/boxart/full_9218923AmericaFrontccc.jpg   \n",
       "4      /games/boxart/full_4990510AmericaFrontccc.jpg   \n",
       "...                                              ...   \n",
       "64011  /games/boxart/full_2779838AmericaFrontccc.jpg   \n",
       "64012  /games/boxart/full_8031506AmericaFrontccc.jpg   \n",
       "64013  /games/boxart/full_6553045AmericaFrontccc.jpg   \n",
       "64014    /games/boxart/full_6012940JapanFrontccc.png   \n",
       "64015                      /games/boxart/default.jpg   \n",
       "\n",
       "                                  title console         genre  \\\n",
       "0                    Grand Theft Auto V     PS3        Action   \n",
       "1                    Grand Theft Auto V     PS4        Action   \n",
       "2           Grand Theft Auto: Vice City     PS2        Action   \n",
       "3                    Grand Theft Auto V    X360        Action   \n",
       "4             Call of Duty: Black Ops 3     PS4       Shooter   \n",
       "...                                 ...     ...           ...   \n",
       "64011             XBlaze Lost: Memories      PC  Visual Novel   \n",
       "64012                      Yoru, Tomosu     PS4  Visual Novel   \n",
       "64013                      Yoru, Tomosu      NS  Visual Novel   \n",
       "64014   Yunohana SpRING! ~Mellow Times~      NS  Visual Novel   \n",
       "64015  Yurukill: The Calumniation Games     PS4  Visual Novel   \n",
       "\n",
       "                  publisher             developer  critic_score  total_sales  \\\n",
       "0            Rockstar Games        Rockstar North           9.4        20.32   \n",
       "1            Rockstar Games        Rockstar North           9.7        19.39   \n",
       "2            Rockstar Games        Rockstar North           9.6        16.15   \n",
       "3            Rockstar Games        Rockstar North           NaN        15.86   \n",
       "4                Activision              Treyarch           8.1        15.09   \n",
       "...                     ...                   ...           ...          ...   \n",
       "64011           Aksys Games      Arc System Works           NaN          NaN   \n",
       "64012  Nippon Ichi Software  Nippon Ichi Software           NaN          NaN   \n",
       "64013  Nippon Ichi Software  Nippon Ichi Software           NaN          NaN   \n",
       "64014          Idea Factory               Otomate           NaN          NaN   \n",
       "64015               Unknown            G.rev Ltd.           NaN          NaN   \n",
       "\n",
       "       na_sales  jp_sales  pal_sales  other_sales release_date last_update  \n",
       "0          6.37      0.99       9.85         3.12   2013-09-17         NaN  \n",
       "1          6.06      0.60       9.71         3.02   2014-11-18  2018-01-03  \n",
       "2          8.41      0.47       5.49         1.78   2002-10-28         NaN  \n",
       "3          9.06      0.06       5.33         1.42   2013-09-17         NaN  \n",
       "4          6.18      0.41       6.05         2.44   2015-11-06  2018-01-14  \n",
       "...         ...       ...        ...          ...          ...         ...  \n",
       "64011       NaN       NaN        NaN          NaN   2016-08-11  2019-01-28  \n",
       "64012       NaN       NaN        NaN          NaN   2020-07-30  2020-05-09  \n",
       "64013       NaN       NaN        NaN          NaN   2020-07-30  2020-05-09  \n",
       "64014       NaN       NaN        NaN          NaN   2019-02-28  2019-02-24  \n",
       "64015       NaN       NaN        NaN          NaN          NaN  2023-09-29  \n",
       "\n",
       "[64016 rows x 14 columns]"
      ]
     },
     "execution_count": 5,
     "metadata": {},
     "output_type": "execute_result"
    }
   ],
   "source": [
    "# DataFrame\n",
    "df_from_csv_file"
   ]
  },
  {
   "cell_type": "markdown",
   "id": "3f6167bb-6898-49f6-ac5c-9e27ba773a6d",
   "metadata": {},
   "source": [
    "3.1 Basic DataFrame filter"
   ]
  },
  {
   "cell_type": "code",
   "execution_count": 20,
   "id": "8V1YnjZWcc97",
   "metadata": {
    "colab": {
     "base_uri": "https://localhost:8080/",
     "height": 773
    },
    "id": "8V1YnjZWcc97",
    "outputId": "75f57122-3b76-4996-adb0-c8fdfe0f6eb0"
   },
   "outputs": [
    {
     "data": {
      "text/html": [
       "<div>\n",
       "<style scoped>\n",
       "    .dataframe tbody tr th:only-of-type {\n",
       "        vertical-align: middle;\n",
       "    }\n",
       "\n",
       "    .dataframe tbody tr th {\n",
       "        vertical-align: top;\n",
       "    }\n",
       "\n",
       "    .dataframe thead th {\n",
       "        text-align: right;\n",
       "    }\n",
       "</style>\n",
       "<table border=\"1\" class=\"dataframe\">\n",
       "  <thead>\n",
       "    <tr style=\"text-align: right;\">\n",
       "      <th></th>\n",
       "      <th>img</th>\n",
       "      <th>title</th>\n",
       "      <th>console</th>\n",
       "      <th>genre</th>\n",
       "      <th>publisher</th>\n",
       "      <th>developer</th>\n",
       "      <th>critic_score</th>\n",
       "      <th>total_sales</th>\n",
       "      <th>na_sales</th>\n",
       "      <th>jp_sales</th>\n",
       "      <th>pal_sales</th>\n",
       "      <th>other_sales</th>\n",
       "      <th>release_date</th>\n",
       "      <th>last_update</th>\n",
       "    </tr>\n",
       "  </thead>\n",
       "  <tbody>\n",
       "    <tr>\n",
       "      <th>3</th>\n",
       "      <td>/games/boxart/full_9218923AmericaFrontccc.jpg</td>\n",
       "      <td>Grand Theft Auto V</td>\n",
       "      <td>X360</td>\n",
       "      <td>Action</td>\n",
       "      <td>Rockstar Games</td>\n",
       "      <td>Rockstar North</td>\n",
       "      <td>NaN</td>\n",
       "      <td>15.86</td>\n",
       "      <td>9.06</td>\n",
       "      <td>0.06</td>\n",
       "      <td>5.33</td>\n",
       "      <td>1.42</td>\n",
       "      <td>2013-09-17</td>\n",
       "      <td>NaN</td>\n",
       "    </tr>\n",
       "    <tr>\n",
       "      <th>5</th>\n",
       "      <td>/games/boxart/full_call-of-duty-modern-warfare...</td>\n",
       "      <td>Call of Duty: Modern Warfare 3</td>\n",
       "      <td>X360</td>\n",
       "      <td>Shooter</td>\n",
       "      <td>Activision</td>\n",
       "      <td>Infinity Ward</td>\n",
       "      <td>8.7</td>\n",
       "      <td>14.82</td>\n",
       "      <td>9.07</td>\n",
       "      <td>0.13</td>\n",
       "      <td>4.29</td>\n",
       "      <td>1.33</td>\n",
       "      <td>2011-11-08</td>\n",
       "      <td>NaN</td>\n",
       "    </tr>\n",
       "    <tr>\n",
       "      <th>6</th>\n",
       "      <td>/games/boxart/full_call-of-duty-black-ops_5Ame...</td>\n",
       "      <td>Call of Duty: Black Ops</td>\n",
       "      <td>X360</td>\n",
       "      <td>Shooter</td>\n",
       "      <td>Activision</td>\n",
       "      <td>Treyarch</td>\n",
       "      <td>8.8</td>\n",
       "      <td>14.74</td>\n",
       "      <td>9.76</td>\n",
       "      <td>0.11</td>\n",
       "      <td>3.73</td>\n",
       "      <td>1.14</td>\n",
       "      <td>2010-11-09</td>\n",
       "      <td>NaN</td>\n",
       "    </tr>\n",
       "  </tbody>\n",
       "</table>\n",
       "</div>"
      ],
      "text/plain": [
       "                                                 img  \\\n",
       "3      /games/boxart/full_9218923AmericaFrontccc.jpg   \n",
       "5  /games/boxart/full_call-of-duty-modern-warfare...   \n",
       "6  /games/boxart/full_call-of-duty-black-ops_5Ame...   \n",
       "\n",
       "                            title console    genre       publisher  \\\n",
       "3              Grand Theft Auto V    X360   Action  Rockstar Games   \n",
       "5  Call of Duty: Modern Warfare 3    X360  Shooter      Activision   \n",
       "6         Call of Duty: Black Ops    X360  Shooter      Activision   \n",
       "\n",
       "        developer  critic_score  total_sales  na_sales  jp_sales  pal_sales  \\\n",
       "3  Rockstar North           NaN        15.86      9.06      0.06       5.33   \n",
       "5   Infinity Ward           8.7        14.82      9.07      0.13       4.29   \n",
       "6        Treyarch           8.8        14.74      9.76      0.11       3.73   \n",
       "\n",
       "   other_sales release_date last_update  \n",
       "3         1.42   2013-09-17         NaN  \n",
       "5         1.33   2011-11-08         NaN  \n",
       "6         1.14   2010-11-09         NaN  "
      ]
     },
     "execution_count": 20,
     "metadata": {},
     "output_type": "execute_result"
    }
   ],
   "source": [
    "filtered_df = df_from_csv_file[df_from_csv_file['console'] == 'X360']\n",
    "\n",
    "# Display the DataFrame\n",
    "filtered_df.head(3)"
   ]
  },
  {
   "cell_type": "markdown",
   "id": "98a7f627-bee3-47ed-bf32-c7bdb2b04432",
   "metadata": {
    "id": "98a7f627-bee3-47ed-bf32-c7bdb2b04432"
   },
   "source": [
    "4. Transform the DataFrame to an Artificial Intelligence Dataframe"
   ]
  },
  {
   "cell_type": "code",
   "execution_count": 7,
   "id": "e99b85c3-6d02-4dbb-af94-8da6c7565abb",
   "metadata": {
    "id": "e99b85c3-6d02-4dbb-af94-8da6c7565abb"
   },
   "outputs": [],
   "source": [
    "# Make the DataFrame to an Artificial Intelligence Dataframe\n",
    "ai_df = SmartDataframe(df_from_csv_file, config={\"llm\": llm, \"enforce_privacy\": False}})"
   ]
  },
  {
   "cell_type": "markdown",
   "id": "133329d2-34f3-4e11-a6d5-609e5782fee5",
   "metadata": {
    "id": "133329d2-34f3-4e11-a6d5-609e5782fee5"
   },
   "source": [
    "4.1 Retrieve the results of the query as a natural language (as an Human)"
   ]
  },
  {
   "cell_type": "code",
   "execution_count": 8,
   "id": "6ca1f2c4-b1d9-434b-a5a7-5c1dfa6173d7",
   "metadata": {
    "colab": {
     "base_uri": "https://localhost:8080/"
    },
    "id": "6ca1f2c4-b1d9-434b-a5a7-5c1dfa6173d7",
    "outputId": "1f35970a-c1f2-4902-d796-a77c665aa4fd"
   },
   "outputs": [],
   "source": [
    "#Chat = Receive as a block of answers (Dataframe or text)\n",
    "# Execute the chat query\n",
    "response = ai_df.chat(\"Return the top 5 titles and their total sales order by total sales\")\n",
    "\n",
    "# response is already the DataFrame you need.\n",
    "results_df = response"
   ]
  },
  {
   "cell_type": "code",
   "execution_count": 9,
   "id": "c0QMXekLeCyR",
   "metadata": {
    "colab": {
     "base_uri": "https://localhost:8080/",
     "height": 206
    },
    "id": "c0QMXekLeCyR",
    "outputId": "6c0e90f6-10ed-433d-ef19-bbb51bfb6308"
   },
   "outputs": [
    {
     "data": {
      "text/html": [
       "<div>\n",
       "<style scoped>\n",
       "    .dataframe tbody tr th:only-of-type {\n",
       "        vertical-align: middle;\n",
       "    }\n",
       "\n",
       "    .dataframe tbody tr th {\n",
       "        vertical-align: top;\n",
       "    }\n",
       "\n",
       "    .dataframe thead th {\n",
       "        text-align: right;\n",
       "    }\n",
       "</style>\n",
       "<table border=\"1\" class=\"dataframe\">\n",
       "  <thead>\n",
       "    <tr style=\"text-align: right;\">\n",
       "      <th></th>\n",
       "      <th>title</th>\n",
       "      <th>total_sales</th>\n",
       "    </tr>\n",
       "  </thead>\n",
       "  <tbody>\n",
       "    <tr>\n",
       "      <th>13724</th>\n",
       "      <td>Grand Theft Auto V</td>\n",
       "      <td>64.29</td>\n",
       "    </tr>\n",
       "    <tr>\n",
       "      <th>5266</th>\n",
       "      <td>Call of Duty: Black Ops</td>\n",
       "      <td>30.99</td>\n",
       "    </tr>\n",
       "    <tr>\n",
       "      <th>5281</th>\n",
       "      <td>Call of Duty: Modern Warfare 3</td>\n",
       "      <td>30.71</td>\n",
       "    </tr>\n",
       "    <tr>\n",
       "      <th>5273</th>\n",
       "      <td>Call of Duty: Black Ops II</td>\n",
       "      <td>29.59</td>\n",
       "    </tr>\n",
       "    <tr>\n",
       "      <th>5277</th>\n",
       "      <td>Call of Duty: Ghosts</td>\n",
       "      <td>28.80</td>\n",
       "    </tr>\n",
       "  </tbody>\n",
       "</table>\n",
       "</div>"
      ],
      "text/plain": [
       "                                title  total_sales\n",
       "13724              Grand Theft Auto V        64.29\n",
       "5266          Call of Duty: Black Ops        30.99\n",
       "5281   Call of Duty: Modern Warfare 3        30.71\n",
       "5273       Call of Duty: Black Ops II        29.59\n",
       "5277             Call of Duty: Ghosts        28.80"
      ]
     },
     "metadata": {},
     "output_type": "display_data"
    }
   ],
   "source": [
    "# Display the DataFrame\n",
    "display(results_df)"
   ]
  },
  {
   "cell_type": "markdown",
   "id": "b4237c08-cec0-4c0f-91a3-c1f4aad4a544",
   "metadata": {
    "id": "b4237c08-cec0-4c0f-91a3-c1f4aad4a544"
   },
   "source": [
    "4.3 Show the code of our last interaction"
   ]
  },
  {
   "cell_type": "code",
   "execution_count": 10,
   "id": "63c65efd-dd33-448f-b4d0-5b6fd84de2d1",
   "metadata": {
    "colab": {
     "base_uri": "https://localhost:8080/"
    },
    "id": "63c65efd-dd33-448f-b4d0-5b6fd84de2d1",
    "outputId": "9dd6c19e-04ba-4c83-9724-9d4914cccbd7"
   },
   "outputs": [
    {
     "name": "stdout",
     "output_type": "stream",
     "text": [
      "top_titles = dfs[0].groupby('title')['total_sales'].sum().reset_index()\n",
      "top_titles = top_titles.sort_values(by='total_sales', ascending=False).head(5)\n",
      "result = {'type': 'dataframe', 'value': top_titles}\n"
     ]
    }
   ],
   "source": [
    "#Show the last code to analyse\n",
    "print(ai_df.last_code_generated)"
   ]
  },
  {
   "cell_type": "markdown",
   "id": "5e35aab6-0705-49b8-aad0-156c972f779e",
   "metadata": {
    "id": "5e35aab6-0705-49b8-aad0-156c972f779e"
   },
   "source": [
    "5. Make an application that answer questions about the Data Base (DF)"
   ]
  },
  {
   "cell_type": "code",
   "execution_count": 22,
   "id": "953fb74c-8378-4a48-bec1-fd5668f07977",
   "metadata": {
    "colab": {
     "base_uri": "https://localhost:8080/",
     "height": 999
    },
    "id": "953fb74c-8378-4a48-bec1-fd5668f07977",
    "outputId": "ee5d7f2e-e1a1-4b31-eca3-e1dce179a499"
   },
   "outputs": [
    {
     "name": "stdin",
     "output_type": "stream",
     "text": [
      "What is your question about the Data Base? (If you not have once press 'q' to finish the program Give me the best 10 titles in PS4\n"
     ]
    },
    {
     "name": "stdout",
     "output_type": "stream",
     "text": [
      "-----------------------------\n",
      "                                           title  critic_score\n",
      "7                          Red Dead Redemption 2           9.8\n",
      "1                             Grand Theft Auto V           9.7\n",
      "17513                                  Undertale           9.7\n",
      "18927                          God of War (2018)           9.7\n",
      "236                     Assassin's Creed Odyssey           9.5\n",
      "506    Dragon Quest XI: Echoes of an Elusive Age           9.5\n",
      "29049                  The Last of Us Remastered           9.5\n",
      "54                                     Minecraft           9.4\n",
      "18933                     The Last of Us Part II           9.4\n",
      "1165                      Shadow of the Colossus           9.3\n"
     ]
    },
    {
     "data": {
      "text/html": [
       "<div>\n",
       "<style scoped>\n",
       "    .dataframe tbody tr th:only-of-type {\n",
       "        vertical-align: middle;\n",
       "    }\n",
       "\n",
       "    .dataframe tbody tr th {\n",
       "        vertical-align: top;\n",
       "    }\n",
       "\n",
       "    .dataframe thead th {\n",
       "        text-align: right;\n",
       "    }\n",
       "</style>\n",
       "<table border=\"1\" class=\"dataframe\">\n",
       "  <thead>\n",
       "    <tr style=\"text-align: right;\">\n",
       "      <th></th>\n",
       "      <th>title</th>\n",
       "      <th>critic_score</th>\n",
       "    </tr>\n",
       "  </thead>\n",
       "  <tbody>\n",
       "    <tr>\n",
       "      <th>7</th>\n",
       "      <td>Red Dead Redemption 2</td>\n",
       "      <td>9.8</td>\n",
       "    </tr>\n",
       "    <tr>\n",
       "      <th>1</th>\n",
       "      <td>Grand Theft Auto V</td>\n",
       "      <td>9.7</td>\n",
       "    </tr>\n",
       "    <tr>\n",
       "      <th>17513</th>\n",
       "      <td>Undertale</td>\n",
       "      <td>9.7</td>\n",
       "    </tr>\n",
       "    <tr>\n",
       "      <th>18927</th>\n",
       "      <td>God of War (2018)</td>\n",
       "      <td>9.7</td>\n",
       "    </tr>\n",
       "    <tr>\n",
       "      <th>236</th>\n",
       "      <td>Assassin's Creed Odyssey</td>\n",
       "      <td>9.5</td>\n",
       "    </tr>\n",
       "    <tr>\n",
       "      <th>506</th>\n",
       "      <td>Dragon Quest XI: Echoes of an Elusive Age</td>\n",
       "      <td>9.5</td>\n",
       "    </tr>\n",
       "    <tr>\n",
       "      <th>29049</th>\n",
       "      <td>The Last of Us Remastered</td>\n",
       "      <td>9.5</td>\n",
       "    </tr>\n",
       "    <tr>\n",
       "      <th>54</th>\n",
       "      <td>Minecraft</td>\n",
       "      <td>9.4</td>\n",
       "    </tr>\n",
       "    <tr>\n",
       "      <th>18933</th>\n",
       "      <td>The Last of Us Part II</td>\n",
       "      <td>9.4</td>\n",
       "    </tr>\n",
       "    <tr>\n",
       "      <th>1165</th>\n",
       "      <td>Shadow of the Colossus</td>\n",
       "      <td>9.3</td>\n",
       "    </tr>\n",
       "  </tbody>\n",
       "</table>\n",
       "</div>"
      ],
      "text/plain": [
       "                                           title  critic_score\n",
       "7                          Red Dead Redemption 2           9.8\n",
       "1                             Grand Theft Auto V           9.7\n",
       "17513                                  Undertale           9.7\n",
       "18927                          God of War (2018)           9.7\n",
       "236                     Assassin's Creed Odyssey           9.5\n",
       "506    Dragon Quest XI: Echoes of an Elusive Age           9.5\n",
       "29049                  The Last of Us Remastered           9.5\n",
       "54                                     Minecraft           9.4\n",
       "18933                     The Last of Us Part II           9.4\n",
       "1165                      Shadow of the Colossus           9.3"
      ]
     },
     "metadata": {},
     "output_type": "display_data"
    },
    {
     "name": "stdout",
     "output_type": "stream",
     "text": [
      "top_10_ps4_titles = dfs[0][dfs[0]['console'] == 'PS4'].nlargest(10, 'critic_score')[['title', 'critic_score']]\n",
      "result = {'type': 'dataframe', 'value': top_10_ps4_titles}\n",
      "-----------------------------\n"
     ]
    },
    {
     "name": "stdin",
     "output_type": "stream",
     "text": [
      "What is your question about the Data Base? (If you not have once press 'q' to finish the program q\n"
     ]
    },
    {
     "name": "stdout",
     "output_type": "stream",
     "text": [
      "Thanks for use the DataBase chatbot\n"
     ]
    }
   ],
   "source": [
    "#Chat = Receive as a block of answers (Dataframe or text)\n",
    "while True:\n",
    "    user_input = input(\"What is your question about the Data Base? (If you not have once press 'q' to finish the program\")\n",
    "    if user_input.lower() != 'q':\n",
    "       result = ai_df.chat(user_input)\n",
    "       print(\"-----------------------------\")\n",
    "       print(result)\n",
    "       display(result)\n",
    "       print(ai_df.last_code_generated)\n",
    "       print(\"-----------------------------\")\n",
    "    else:\n",
    "        break;\n",
    "print(\"Thanks for use the DataBase chatbot\")"
   ]
  },
  {
   "cell_type": "code",
   "execution_count": null,
   "id": "fb03face-2dc0-4ed3-942a-4978a28ec64a",
   "metadata": {
    "id": "fb03face-2dc0-4ed3-942a-4978a28ec64a"
   },
   "outputs": [],
   "source": []
  }
 ],
 "metadata": {
  "colab": {
   "provenance": []
  },
  "kernelspec": {
   "display_name": "Python 3 (ipykernel)",
   "language": "python",
   "name": "python3"
  },
  "language_info": {
   "codemirror_mode": {
    "name": "ipython",
    "version": 3
   },
   "file_extension": ".py",
   "mimetype": "text/x-python",
   "name": "python",
   "nbconvert_exporter": "python",
   "pygments_lexer": "ipython3",
   "version": "3.10.13"
  }
 },
 "nbformat": 4,
 "nbformat_minor": 5
}
