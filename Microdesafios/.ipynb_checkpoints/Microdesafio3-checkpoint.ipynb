{
 "cells": [
  {
   "cell_type": "markdown",
   "id": "f48d1e4f-5bf0-4291-9f10-e4fa452dfee6",
   "metadata": {},
   "source": [
    "1. Import openAI dependences (load with conda install openai)"
   ]
  },
  {
   "cell_type": "code",
   "execution_count": 24,
   "id": "6f5e6bba-f9b0-4d27-a0c2-ceede346e2fd",
   "metadata": {
    "scrolled": true
   },
   "outputs": [],
   "source": [
    "\n",
    "#Import openAI dependences (module)\n",
    "import openai"
   ]
  },
  {
   "cell_type": "markdown",
   "id": "6180968b-5de0-4e1d-91e1-bb0607b62ebe",
   "metadata": {},
   "source": [
    "2. Use the API Key from openAI page"
   ]
  },
  {
   "cell_type": "code",
   "execution_count": 4,
   "id": "aaa13f6c-6aee-4ddd-92b7-33dbbf66ea3c",
   "metadata": {},
   "outputs": [],
   "source": [
    "#Add our API Key copied from openAI page\n",
    "openai.api_key = \"\" #Example -> dw-bQyr9128F49VJRNKAnST32lbkFJ2Zv4qEhWo4R0Xh6yrh15"
   ]
  },
  {
   "cell_type": "markdown",
   "id": "133396b5-0a78-4b9a-a1c0-8c81d7744f9b",
   "metadata": {},
   "source": [
    "3. Make a request"
   ]
  },
  {
   "cell_type": "code",
   "execution_count": 5,
   "id": "f7c1fc76-a9ea-4df9-9324-d83bba8bfc0c",
   "metadata": {
    "scrolled": true
   },
   "outputs": [],
   "source": [
    "#Make the context of our prompt envoirement\n",
    "context = 'Eres un asistente especialista en creacion de historias, a partir de una frase la cual puede ser inconclusa o no, completa la historia con maximo 2 parrafos de extension de la misma.'\n",
    "\n",
    "#prompt (text/user's question)\n",
    "prompt = \"Un rio congelado...\""
   ]
  },
  {
   "cell_type": "markdown",
   "id": "a42ce140-d99c-492e-ad64-9de2719ea75e",
   "metadata": {},
   "source": [
    "4. Settings"
   ]
  },
  {
   "cell_type": "code",
   "execution_count": 7,
   "id": "1ce51fc0-ce3e-4db1-8ab5-4d9447252af9",
   "metadata": {},
   "outputs": [
    {
     "name": "stdout",
     "output_type": "stream",
     "text": [
      "assistant: Un río congelado se extendía frente a los ojos de Lucía. Era invierno y el frío había sido tan intenso que incluso el torrente de agua que solía fluir con alegría se había detenido, convirtiéndose en un espejo de hielo perfectamente liso. Lucía, fascinada por la belleza del paisaje, decidió aventurarse a caminar sobre la superficie congelada. Con cada paso, el sonido de sus botas crujía bajo la presión del hielo, creando una melodía que solo ella podía escuchar. Mientras avanzaba, Lucía se perdió en sus pensamientos y comenzó a soñar despierta, imaginando a los peces nadando bajo el hielo, esperando pacientemente el retorno del calor para poder volver a su hábitat natural. La belleza del río congelado era un recordatorio de que, incluso en la estación más fría, la vida siempre encontraba la manera de persistir.\n"
     ]
    }
   ],
   "source": [
    "# Make the request\n",
    "conversation = [\n",
    "    {\"role\": \"system\", \"content\": context},\n",
    "    {\"role\": \"user\", \"content\": prompt}\n",
    "]\n",
    "\n",
    "response = openai.ChatCompletion.create(\n",
    "    model='gpt-3.5-turbo',\n",
    "    messages=conversation,\n",
    "    max_tokens=500\n",
    ")\n",
    "\n",
    "message = response.choices[0]['message']\n",
    "print(\"{}: {}\".format(message['role'], message['content']))"
   ]
  },
  {
   "cell_type": "markdown",
   "id": "1e57d4c6-d1aa-48fc-80dd-530bfcebab65",
   "metadata": {},
   "source": [
    "5. Storage the response in any variable & make the model"
   ]
  },
  {
   "cell_type": "code",
   "execution_count": 9,
   "id": "abb2ce41-0dc8-46f9-8137-aca58604bcbf",
   "metadata": {},
   "outputs": [
    {
     "name": "stdout",
     "output_type": "stream",
     "text": [
      "Historia creada: Un río congelado se extendía frente a los ojos de Lucía. Era invierno y el frío había sido tan intenso que incluso el torrente de agua que solía fluir con alegría se había detenido, convirtiéndose en un espejo de hielo perfectamente liso. Lucía, fascinada por la belleza del paisaje, decidió aventurarse a caminar sobre la superficie congelada. Con cada paso, el sonido de sus botas crujía bajo la presión del hielo, creando una melodía que solo ella podía escuchar. Mientras avanzaba, Lucía se perdió en sus pensamientos y comenzó a soñar despierta, imaginando a los peces nadando bajo el hielo, esperando pacientemente el retorno del calor para poder volver a su hábitat natural. La belleza del río congelado era un recordatorio de que, incluso en la estación más fría, la vida siempre encontraba la manera de persistir.\n"
     ]
    }
   ],
   "source": [
    "#Storage the response in a variable to use it\n",
    "story_made = response['choices'][0]['message']['content'].strip()\n",
    "\n",
    "#Use the variable\n",
    "print(\"Historia creada:\", story_made)\n"
   ]
  },
  {
   "cell_type": "code",
   "execution_count": 11,
   "id": "319a0bbc-0af1-4006-aea0-78dc22675505",
   "metadata": {},
   "outputs": [
    {
     "name": "stdout",
     "output_type": "stream",
     "text": [
      "Prompt de la escena: Un río congelado se extiende a lo largo de un paisaje invernal. La superficie está cubierta de una capa de hielo cristalino, que refleja la luz del sol brillante del invierno. Los árboles aledaños están cubiertos de nieve, sus ramas desnudas resaltan contra el cielo azul claro. En el centro del río se encuentra una pequeña cabaña, con humo emergiendo de una chimenea, indicando que alguien vive allí en medio de ese paisaje gélido.\n"
     ]
    }
   ],
   "source": [
    "# Now use story_made as the context for a new prompt\n",
    "process_text_to_image = \"En base a la historia anterior crea un prompt que pueda generar una imagen que muestre el escenario correspondiente a la historia\"\n",
    "\n",
    "# Add the new user message with story_made as the context\n",
    "conversation.append({\"role\": \"user\", \"content\": process_text_to_image})\n",
    "\n",
    "# Make the request for the new prompt\n",
    "response = openai.ChatCompletion.create(\n",
    "    model='gpt-3.5-turbo',\n",
    "    messages=conversation,\n",
    "    max_tokens=500\n",
    ")\n",
    "\n",
    "# Get and print the new story\n",
    "img_prompt = response['choices'][0]['message']['content'].strip()\n",
    "print(\"Prompt de la escena:\", img_prompt)"
   ]
  },
  {
   "cell_type": "code",
   "execution_count": 34,
   "id": "dfd2af83-1752-4610-96f5-4f3d9bfed01d",
   "metadata": {},
   "outputs": [
    {
     "name": "stdout",
     "output_type": "stream",
     "text": [
      "https://oaidalleapiprodscus.blob.core.windows.net/private/org-VQyNQRWDgspjldCWllprBfXW/user-S4qyX2ildshTnVDpy87KApyu/img-f8dwlUpWtn3revm6crY8d9ov.png?st=2024-01-10T18%3A36%3A16Z&se=2024-01-10T20%3A36%3A16Z&sp=r&sv=2021-08-06&sr=b&rscd=inline&rsct=image/png&skoid=6aaadede-4fb3-4698-a8f6-684d7786b067&sktid=a48cca56-e6da-484e-a814-9c849652bcb3&skt=2024-01-10T06%3A40%3A30Z&ske=2024-01-11T06%3A40%3A30Z&sks=b&skv=2021-08-06&sig=536qOnZFQ/akJvfutN44wUQPwZiljUtlGDmFp4RLD9M%3D\n"
     ]
    }
   ],
   "source": [
    "# Now use story_made as the context for a new prompt\n",
    "image_from_scenario = f\"En base a la historia anterior, crea una imagen que represente el escenario descrito: {img_prompt}\"\n",
    "\n",
    "# Add the new user message with the image prompt\n",
    "conversation.append({\"role\": \"user\", \"content\": image_from_scenario})\n",
    "\n",
    "# Make the request for the image prompt\n",
    "image_response = openai.Image.create(\n",
    "    prompt=image_from_scenario,\n",
    "    n=1,\n",
    "    size=\"1024x1024\"\n",
    ")\n",
    "\n",
    "# Get and print the generated image URL\n",
    "print(image_response['data'][0]['url'])\n"
   ]
  },
  {
   "cell_type": "code",
   "execution_count": null,
   "id": "7c81a48d-a77c-45f7-bfcd-9a384bffc2ac",
   "metadata": {},
   "outputs": [],
   "source": []
  }
 ],
 "metadata": {
  "kernelspec": {
   "display_name": "Python 3 (ipykernel)",
   "language": "python",
   "name": "python3"
  },
  "language_info": {
   "codemirror_mode": {
    "name": "ipython",
    "version": 3
   },
   "file_extension": ".py",
   "mimetype": "text/x-python",
   "name": "python",
   "nbconvert_exporter": "python",
   "pygments_lexer": "ipython3",
   "version": "3.10.13"
  }
 },
 "nbformat": 4,
 "nbformat_minor": 5
}
