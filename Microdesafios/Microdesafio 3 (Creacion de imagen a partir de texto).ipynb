{
 "cells": [
  {
   "cell_type": "markdown",
   "id": "f48d1e4f-5bf0-4291-9f10-e4fa452dfee6",
   "metadata": {},
   "source": [
    "1. Import openAI dependences (load with conda install openai)"
   ]
  },
  {
   "cell_type": "code",
   "execution_count": 1,
   "id": "6f5e6bba-f9b0-4d27-a0c2-ceede346e2fd",
   "metadata": {
    "scrolled": true
   },
   "outputs": [],
   "source": [
    "\n",
    "#Import openAI dependences (module)\n",
    "import openai"
   ]
  },
  {
   "cell_type": "markdown",
   "id": "6180968b-5de0-4e1d-91e1-bb0607b62ebe",
   "metadata": {},
   "source": [
    "2. Use the API Key from openAI page"
   ]
  },
  {
   "cell_type": "code",
   "execution_count": 2,
   "id": "aaa13f6c-6aee-4ddd-92b7-33dbbf66ea3c",
   "metadata": {},
   "outputs": [],
   "source": [
    "#Add our API Key copied from openAI page\n",
    "openai.api_key = \"\" #Example -> dw-bQyr9128F49VJRNKAnST32lbkFJ2Zv4qEhWo4R0Xh6yrh15"
   ]
  },
  {
   "cell_type": "markdown",
   "id": "133396b5-0a78-4b9a-a1c0-8c81d7744f9b",
   "metadata": {},
   "source": [
    "3. Make a request"
   ]
  },
  {
   "cell_type": "code",
   "execution_count": 3,
   "id": "f7c1fc76-a9ea-4df9-9324-d83bba8bfc0c",
   "metadata": {
    "scrolled": true
   },
   "outputs": [],
   "source": [
    "#Make the context of our prompt envoirement\n",
    "context = 'Eres un asistente especialista en creacion de historias, a partir de una frase la cual puede ser inconclusa o no, completa la historia con maximo 2 parrafos de extension de la misma.'\n",
    "\n",
    "#prompt (text/user's question)\n",
    "prompt = \"Un rio congelado...\""
   ]
  },
  {
   "cell_type": "markdown",
   "id": "a42ce140-d99c-492e-ad64-9de2719ea75e",
   "metadata": {},
   "source": [
    "4. Settings"
   ]
  },
  {
   "cell_type": "code",
   "execution_count": 4,
   "id": "1ce51fc0-ce3e-4db1-8ab5-4d9447252af9",
   "metadata": {},
   "outputs": [
    {
     "name": "stdout",
     "output_type": "stream",
     "text": [
      "assistant: Un río congelado en medio del invierno anunciaba la llegada de la época más fría del año en aquel pequeño pueblo. Los árboles a su alrededor lucían cubiertos de delicadas capas de escarcha, mientras que el sol se escondía temprano tras las montañas nevadas. Los habitantes, acostumbrados a los rigores del invierno, se preparaban para días de frío intenso y paisajes cubiertos de blanco.\n",
      "\n",
      "Sin embargo, algo inusual sucedió esa mañana fría y silenciosa. Un grupo de niños curiosos se aventuró a caminar sobre el río congelado, maravillados por la oportunidad de jugar en un escenario tan distinto. De repente, un crujido resonó en el aire y una grieta comenzó a extenderse rápidamente por la superficie helada, sembrando el pánico entre los pequeños. Ahora, todos se apresuraban a regresar a tierra firme, con el corazón latiéndoles con fuerza y el río congelado recordándoles que la naturaleza siempre mantenía el control.\n"
     ]
    }
   ],
   "source": [
    "# Make the request\n",
    "conversation = [\n",
    "    {\"role\": \"system\", \"content\": context},\n",
    "    {\"role\": \"user\", \"content\": prompt}\n",
    "]\n",
    "\n",
    "response = openai.ChatCompletion.create(\n",
    "    model='gpt-3.5-turbo',\n",
    "    messages=conversation,\n",
    "    max_tokens=500\n",
    ")\n",
    "\n",
    "message = response.choices[0]['message']\n",
    "print(\"{}: {}\".format(message['role'], message['content']))"
   ]
  },
  {
   "cell_type": "markdown",
   "id": "1e57d4c6-d1aa-48fc-80dd-530bfcebab65",
   "metadata": {},
   "source": [
    "5. Storage the response in any variable & make the model"
   ]
  },
  {
   "cell_type": "code",
   "execution_count": 5,
   "id": "abb2ce41-0dc8-46f9-8137-aca58604bcbf",
   "metadata": {},
   "outputs": [
    {
     "name": "stdout",
     "output_type": "stream",
     "text": [
      "Historia creada: Un río congelado en medio del invierno anunciaba la llegada de la época más fría del año en aquel pequeño pueblo. Los árboles a su alrededor lucían cubiertos de delicadas capas de escarcha, mientras que el sol se escondía temprano tras las montañas nevadas. Los habitantes, acostumbrados a los rigores del invierno, se preparaban para días de frío intenso y paisajes cubiertos de blanco.\n",
      "\n",
      "Sin embargo, algo inusual sucedió esa mañana fría y silenciosa. Un grupo de niños curiosos se aventuró a caminar sobre el río congelado, maravillados por la oportunidad de jugar en un escenario tan distinto. De repente, un crujido resonó en el aire y una grieta comenzó a extenderse rápidamente por la superficie helada, sembrando el pánico entre los pequeños. Ahora, todos se apresuraban a regresar a tierra firme, con el corazón latiéndoles con fuerza y el río congelado recordándoles que la naturaleza siempre mantenía el control.\n"
     ]
    }
   ],
   "source": [
    "#Storage the response in a variable to use it\n",
    "story_made = response['choices'][0]['message']['content'].strip()\n",
    "\n",
    "#Use the variable\n",
    "print(\"Historia creada:\", story_made)\n"
   ]
  },
  {
   "cell_type": "code",
   "execution_count": 9,
   "id": "319a0bbc-0af1-4006-aea0-78dc22675505",
   "metadata": {
    "scrolled": true
   },
   "outputs": [
    {
     "name": "stdout",
     "output_type": "stream",
     "text": [
      "Prompt de la escena: Un río congelado en invierno, niños curiosos, grieta en el hielo, grupo de adultos formando cadena humana para rescatarlos, lección aprendida sobre respeto a la naturaleza y trabajo en equipo. Silencio tras el rescate, el río brilla bajo el sol invernal, una experiencia marcada en la memoria de los habitantes como recordatorio de la precaución y el respeto ante la fuerza de la naturaleza.\n"
     ]
    }
   ],
   "source": [
    "# Now use story_made as the context for a new prompt\n",
    "process_text_to_image = f\"En base a la historia anterior crea un prompt que pueda generar una imagen que muestre el escenario correspondiente a la historia: { story_made }.El prompt de salida no puede superar 1000 caracteres.\"\n",
    "\n",
    "# Add the new user message with story_made as the context\n",
    "conversation.append({\"role\": \"user\", \"content\": process_text_to_image})\n",
    "\n",
    "# Make the request for the new prompt\n",
    "response_2 = openai.ChatCompletion.create(\n",
    "    model='gpt-3.5-turbo',\n",
    "    messages=conversation,\n",
    "    max_tokens=500\n",
    ")\n",
    "\n",
    "# Get and print the new story\n",
    "img_prompt = response_2['choices'][0]['message']['content'].strip()\n",
    "print(\"Prompt de la escena:\", img_prompt)"
   ]
  },
  {
   "cell_type": "code",
   "execution_count": 13,
   "id": "dfd2af83-1752-4610-96f5-4f3d9bfed01d",
   "metadata": {},
   "outputs": [
    {
     "name": "stdout",
     "output_type": "stream",
     "text": [
      "https://oaidalleapiprodscus.blob.core.windows.net/private/org-VQyNQRWDgspjldCWllprBfXW/user-S4qyX2ildshTnVDpy87KApyu/img-xnmUpwD6nlsXL4FhdfYQeYck.png?st=2024-09-24T22%3A15%3A07Z&se=2024-09-25T00%3A15%3A07Z&sp=r&sv=2024-08-04&sr=b&rscd=inline&rsct=image/png&skoid=d505667d-d6c1-4a0a-bac7-5c84a87759f8&sktid=a48cca56-e6da-484e-a814-9c849652bcb3&skt=2024-09-23T23%3A50%3A05Z&ske=2024-09-24T23%3A50%3A05Z&sks=b&skv=2024-08-04&sig=RRaoJH6YDbT%2BMBdAhEqHNZ0hZW/DKvT9fLLCansZp7w%3D\n"
     ]
    }
   ],
   "source": [
    "# Now use story_made as the context for a new prompt\n",
    "image_from_scenario = f\"En base a la historia anterior, crea una imagen que represente el escenario descrito: {img_prompt}. La imagen debe ser realista y no debe tener las siguientes caracteristicas: Mala calidad ni definicion.\"\n",
    "\n",
    "# Add the new user message with the image prompt\n",
    "conversation.append({\"role\": \"user\", \"content\": image_from_scenario})\n",
    "\n",
    "# Make the request for the image prompt\n",
    "image_response = openai.Image.create(\n",
    "    prompt=image_from_scenario,\n",
    "    n=1,\n",
    "    size=\"1024x1024\"\n",
    ")\n",
    "\n",
    "# Get and print the generated image URL\n",
    "print(image_response['data'][0]['url'])\n"
   ]
  },
  {
   "cell_type": "code",
   "execution_count": null,
   "id": "7c81a48d-a77c-45f7-bfcd-9a384bffc2ac",
   "metadata": {},
   "outputs": [],
   "source": []
  }
 ],
 "metadata": {
  "kernelspec": {
   "display_name": "Python 3 (ipykernel)",
   "language": "python",
   "name": "python3"
  },
  "language_info": {
   "codemirror_mode": {
    "name": "ipython",
    "version": 3
   },
   "file_extension": ".py",
   "mimetype": "text/x-python",
   "name": "python",
   "nbconvert_exporter": "python",
   "pygments_lexer": "ipython3",
   "version": "3.10.13"
  }
 },
 "nbformat": 4,
 "nbformat_minor": 5
}
