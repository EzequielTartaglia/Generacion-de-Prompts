{
 "cells": [
  {
   "cell_type": "markdown",
   "id": "f48d1e4f-5bf0-4291-9f10-e4fa452dfee6",
   "metadata": {},
   "source": [
    "1. Import openAI dependences (load with conda install openai)"
   ]
  },
  {
   "cell_type": "code",
   "execution_count": 3,
   "id": "6f5e6bba-f9b0-4d27-a0c2-ceede346e2fd",
   "metadata": {
    "scrolled": true
   },
   "outputs": [],
   "source": [
    "#Import openAI dependences (module)\n",
    "import openai"
   ]
  },
  {
   "cell_type": "markdown",
   "id": "6180968b-5de0-4e1d-91e1-bb0607b62ebe",
   "metadata": {},
   "source": [
    "2. Use the API Key from openAI page"
   ]
  },
  {
   "cell_type": "code",
   "execution_count": 4,
   "id": "aaa13f6c-6aee-4ddd-92b7-33dbbf66ea3c",
   "metadata": {},
   "outputs": [],
   "source": [
    "#Add our API Key copied from openAI page\n",
    "openai.api_key = \"\" #Example -> dw-bQyr9128F49VJRNKAnST32lbkFJ2Zv4qEhWo4R0Xh6yrh15"
   ]
  },
  {
   "cell_type": "markdown",
   "id": "133396b5-0a78-4b9a-a1c0-8c81d7744f9b",
   "metadata": {},
   "source": [
    "3. Make a request"
   ]
  },
  {
   "cell_type": "code",
   "execution_count": 9,
   "id": "f7c1fc76-a9ea-4df9-9324-d83bba8bfc0c",
   "metadata": {
    "scrolled": true
   },
   "outputs": [
    {
     "name": "stdout",
     "output_type": "stream",
     "text": [
      "[{'mensaje': 'Hola, ¿tienen este servicio disponible?', 'usuario': 'Cliente'}, {'mensaje': 'Sí, el servicio está disponible. ¿Para cuándo lo necesitas?', 'usuario': 'Vendedor'}, {'mensaje': 'Lo necesitaría para el próximo jueves. ¿Cuál es el costo?', 'usuario': 'Cliente'}, {'mensaje': 'El servicio tiene un costo de $80. ¿Te parece bien?', 'usuario': 'Vendedor'}, {'mensaje': 'Perfecto, procedamos con la reserva.', 'usuario': 'Cliente'}, {'mensaje': 'Hola, ¿puedo cancelar la reserva para el próximo jueves?', 'usuario': 'Cliente'}, {'mensaje': 'Sí, puedes cancelar la reserva. Por favor, avísanos con anticipación.', 'usuario': 'Vendedor'}, {'mensaje': 'Gracias por la información. ¿Cómo puedo proceder con la cancelación?', 'usuario': 'Cliente'}, {'mensaje': 'Puedes enviarnos un correo electrónico con los detalles y procesaremos la cancelación.', 'usuario': 'Vendedor'}]\n"
     ]
    }
   ],
   "source": [
    "#Make the context of our prompt envoirement\n",
    "context = 'Eres un experto en datos,  '\n",
    "#context = 'Eres un experto en datos, necesito que del siguiente JSON, filtres los \"telefonos y no los muestres\". '\n",
    "\n",
    "dataJson= {  'conversaciones': [    {      'mensaje': 'Hola, ¿tienen este servicio disponible?',      'usuario': 'Cliente',      'nombre': 'María García',      'telefono': '555-123-4567'    },    {      'mensaje': 'Sí, el servicio está disponible. ¿Para cuándo lo necesitas?',      'usuario': 'Vendedor',      'nombre': 'Carlos Rodríguez',      'telefono': '555-987-6543'    },    {     'mensaje': 'Lo necesitaría para el próximo jueves. ¿Cuál es el costo?',      'usuario': 'Cliente',      'nombre': 'María García',      'telefono': '555-123-4567'    },    {      'mensaje': 'El servicio tiene un costo de $80. ¿Te parece bien?',      'usuario': 'Vendedor',      'nombre': 'Carlos Rodríguez',      'telefono': '555-987-6543'    },    {      'mensaje': 'Perfecto, procedamos con la reserva.',      'usuario': 'Cliente',      'nombre': 'María García',      'telefono': '555-123-4567'    },    {      'mensaje': 'Hola, ¿puedo cancelar la reserva para el próximo jueves?',      'usuario': 'Cliente',      'nombre': 'María García',      'telefono': '555-123-4567'    },    {      'mensaje': 'Sí, puedes cancelar la reserva. Por favor, avísanos con anticipación.',      'usuario': 'Vendedor',      'nombre': 'Carlos Rodríguez',      'telefono': '555-987-6543'    },    {      'mensaje': 'Gracias por la información. ¿Cómo puedo proceder con la cancelación?',      'usuario': 'Cliente',      'nombre': 'María García',      'telefono': '555-123-4567'    },    {      'mensaje': 'Puedes enviarnos un correo electrónico con los detalles y procesaremos la cancelación.',      'usuario': 'Vendedor',      'nombre': 'Carlos Rodríguez',      'telefono': '555-987-6543'    }  ]};\n",
    "\n",
    "\n",
    "# new array without 'nombre' y 'telefono'\n",
    "nuevo_array = [\n",
    "    {k: v for k, v in elemento.items() if k not in (\"nombre\", \"telefono\")}\n",
    "    for elemento in dataJson['conversaciones']\n",
    "]\n",
    "\n",
    "print(nuevo_array) \n",
    "\n",
    "#prompt (text/user's question)\n",
    "prompt = f\"necesito que del siguiente {nuevo_array} traiga los mensajes mas significativos\"\n"
   ]
  },
  {
   "cell_type": "markdown",
   "id": "a42ce140-d99c-492e-ad64-9de2719ea75e",
   "metadata": {},
   "source": [
    "4. Settings"
   ]
  },
  {
   "cell_type": "code",
   "execution_count": 8,
   "id": "1ce51fc0-ce3e-4db1-8ab5-4d9447252af9",
   "metadata": {},
   "outputs": [
    {
     "name": "stdout",
     "output_type": "stream",
     "text": [
      "assistant: Para determinar los mensajes más significativos de la conversación, podemos considerar aquellos que representen hitos importantes o decisiones clave tomadas durante la interacción entre el cliente y el vendedor. En este caso, los mensajes más significativos podrían ser:\n",
      "\n",
      "1. Cliente: \"Hola, ¿tienen este servicio disponible?\"\n",
      "2. Vendedor: \"Sí, el servicio está disponible. ¿Para cuándo lo necesitas?\"\n",
      "3. Cliente: \"Lo necesitaría para el próximo jueves. ¿Cuál es el costo?\"\n",
      "4. Vendedor: \"El servicio tiene un costo de $80. ¿Te parece bien?\"\n",
      "5. Cliente: \"Perfecto, procedamos con la reserva.\"\n",
      "6. Cliente: \"Hola, ¿puedo cancelar la reserva para el próximo jueves?\"\n",
      "7. Vendedor: \"Sí, puedes cancelar la reserva. Por favor, avísanos con anticipación.\"\n",
      "8. Cliente: \"Gracias por la información. ¿Cómo puedo proceder con la cancelación?\"\n",
      "\n",
      "Estos mensajes representan momentos clave en la conversación que reflejan la solicitud de información, la confirmación de disponibilidad y costos, la decisión de proceder con la reserva, y la consulta sobre la cancelación del servicio.\n"
     ]
    }
   ],
   "source": [
    "# Make the request\n",
    "conversation = [\n",
    "    {\"role\": \"system\", \"content\": context},\n",
    "    {\"role\": \"user\", \"content\": prompt}\n",
    "]\n",
    "\n",
    "response = openai.ChatCompletion.create(\n",
    "    model='gpt-3.5-turbo',\n",
    "    messages=conversation,\n",
    "    max_tokens=500\n",
    ")\n",
    "\n",
    "message = response.choices[0]['message']\n",
    "print(\"{}: {}\".format(message['role'], message['content']))"
   ]
  }
 ],
 "metadata": {
  "kernelspec": {
   "display_name": "Python 3 (ipykernel)",
   "language": "python",
   "name": "python3"
  },
  "language_info": {
   "codemirror_mode": {
    "name": "ipython",
    "version": 3
   },
   "file_extension": ".py",
   "mimetype": "text/x-python",
   "name": "python",
   "nbconvert_exporter": "python",
   "pygments_lexer": "ipython3",
   "version": "3.10.13"
  }
 },
 "nbformat": 4,
 "nbformat_minor": 5
}
