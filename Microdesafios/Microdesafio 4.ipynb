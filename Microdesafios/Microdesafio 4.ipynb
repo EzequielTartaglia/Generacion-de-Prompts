{
 "cells": [
  {
   "cell_type": "markdown",
   "id": "f48d1e4f-5bf0-4291-9f10-e4fa452dfee6",
   "metadata": {},
   "source": [
    "1. Import openAI dependences (load with conda install openai)"
   ]
  },
  {
   "cell_type": "code",
   "execution_count": 57,
   "id": "6f5e6bba-f9b0-4d27-a0c2-ceede346e2fd",
   "metadata": {
    "scrolled": true
   },
   "outputs": [],
   "source": [
    "\n",
    "#Import openAI dependences (module)\n",
    "import openai"
   ]
  },
  {
   "cell_type": "markdown",
   "id": "6180968b-5de0-4e1d-91e1-bb0607b62ebe",
   "metadata": {},
   "source": [
    "2. Use the API Key from openAI page"
   ]
  },
  {
   "cell_type": "code",
   "execution_count": 58,
   "id": "aaa13f6c-6aee-4ddd-92b7-33dbbf66ea3c",
   "metadata": {},
   "outputs": [],
   "source": [
    "#Add our API Key copied from openAI page\n",
    "openai.api_key = \"\" #Example -> dw-bQyr9128F49VJRNKAnST32lbkFJ2Zv4qEhWo4R0Xh6yrh15"
   ]
  },
  {
   "cell_type": "markdown",
   "id": "133396b5-0a78-4b9a-a1c0-8c81d7744f9b",
   "metadata": {},
   "source": [
    "3. Make a request"
   ]
  },
  {
   "cell_type": "code",
   "execution_count": 59,
   "id": "f7c1fc76-a9ea-4df9-9324-d83bba8bfc0c",
   "metadata": {
    "scrolled": true
   },
   "outputs": [],
   "source": [
    "#Make the context of our prompt envoirement\n",
    "context = 'Eres un experto en datos,  '\n",
    "#context = 'Eres un experto en datos, necesito que del siguiente JSON, filtres los \"telefonos y no los muestres\". '\n",
    "\n",
    "dataJson= {  'conversaciones': [    {      'mensaje': 'Hola, ¿tienen este servicio disponible?',      'usuario': 'Cliente',      'nombre': 'María García',      'telefono': '555-123-4567'    },    {      'mensaje': 'Sí, el servicio está disponible. ¿Para cuándo lo necesitas?',      'usuario': 'Vendedor',      'nombre': 'Carlos Rodríguez',      'telefono': '555-987-6543'    },    {     'mensaje': 'Lo necesitaría para el próximo jueves. ¿Cuál es el costo?',      'usuario': 'Cliente',      'nombre': 'María García',      'telefono': '555-123-4567'    },    {      'mensaje': 'El servicio tiene un costo de $80. ¿Te parece bien?',      'usuario': 'Vendedor',      'nombre': 'Carlos Rodríguez',      'telefono': '555-987-6543'    },    {      'mensaje': 'Perfecto, procedamos con la reserva.',      'usuario': 'Cliente',      'nombre': 'María García',      'telefono': '555-123-4567'    },    {      'mensaje': 'Hola, ¿puedo cancelar la reserva para el próximo jueves?',      'usuario': 'Cliente',      'nombre': 'María García',      'telefono': '555-123-4567'    },    {      'mensaje': 'Sí, puedes cancelar la reserva. Por favor, avísanos con anticipación.',      'usuario': 'Vendedor',      'nombre': 'Carlos Rodríguez',      'telefono': '555-987-6543'    },    {      'mensaje': 'Gracias por la información. ¿Cómo puedo proceder con la cancelación?',      'usuario': 'Cliente',      'nombre': 'María García',      'telefono': '555-123-4567'    },    {      'mensaje': 'Puedes enviarnos un correo electrónico con los detalles y procesaremos la cancelación.',      'usuario': 'Vendedor',      'nombre': 'Carlos Rodríguez',      'telefono': '555-987-6543'    }  ]};\n",
    "\n",
    "#prompt (text/user's question)\n",
    "prompt = f\"necesito que del siguiente {dataJson}, filtres todos los datos, menos los datos sencibles\"\n"
   ]
  },
  {
   "cell_type": "markdown",
   "id": "a42ce140-d99c-492e-ad64-9de2719ea75e",
   "metadata": {},
   "source": [
    "4. Settings"
   ]
  },
  {
   "cell_type": "code",
   "execution_count": 60,
   "id": "1ce51fc0-ce3e-4db1-8ab5-4d9447252af9",
   "metadata": {},
   "outputs": [
    {
     "name": "stdout",
     "output_type": "stream",
     "text": [
      "assistant: Claro, aquí tienes la información de las conversaciones con los datos sensibles eliminados:\n",
      "\n",
      "```python\n",
      "{\n",
      "    'conversaciones': [\n",
      "        {'mensaje': 'Hola, ¿tienen este servicio disponible?', 'usuario': 'Cliente'},\n",
      "        {'mensaje': 'Sí, el servicio está disponible. ¿Para cuándo lo necesitas?', 'usuario': 'Vendedor'},\n",
      "        {'mensaje': 'Lo necesitaría para el próximo jueves. ¿Cuál es el costo?', 'usuario': 'Cliente'},\n",
      "        {'mensaje': 'El servicio tiene un costo de $80. ¿Te parece bien?', 'usuario': 'Vendedor'},\n",
      "        {'mensaje': 'Perfecto, procedamos con la reserva.', 'usuario': 'Cliente'},\n",
      "        {'mensaje': 'Hola, ¿puedo cancelar la reserva para el próximo jueves?', 'usuario': 'Cliente'},\n",
      "        {'mensaje': 'Sí, puedes cancelar la reserva. Por favor, avísanos con anticipación.', 'usuario': 'Vendedor'},\n",
      "        {'mensaje': 'Gracias por la información. ¿Cómo puedo proceder con la cancelación?', 'usuario': 'Cliente'},\n",
      "        {'mensaje': 'Puedes enviarnos un correo electrónico con los detalles y procesaremos la cancelación.', 'usuario': 'Vendedor'}\n",
      "    ]\n",
      "}\n",
      "```\n",
      "\n",
      "He eliminado los datos sensibles como los nombres y teléfonos de los usuarios para proteger su privacidad. Si necesitas algún otro tipo de procesamiento de datos, ¡házmelo saber!\n"
     ]
    }
   ],
   "source": [
    "# Make the request\n",
    "conversation = [\n",
    "    {\"role\": \"system\", \"content\": context},\n",
    "    {\"role\": \"user\", \"content\": prompt}\n",
    "]\n",
    "\n",
    "response = openai.ChatCompletion.create(\n",
    "    model='gpt-3.5-turbo',\n",
    "    messages=conversation,\n",
    "    max_tokens=500\n",
    ")\n",
    "\n",
    "message = response.choices[0]['message']\n",
    "print(\"{}: {}\".format(message['role'], message['content']))"
   ]
  },
  {
   "cell_type": "code",
   "execution_count": null,
   "id": "f14091b0-3ae7-4e72-9fdb-1ed9555eca71",
   "metadata": {},
   "outputs": [],
   "source": []
  },
  {
   "cell_type": "code",
   "execution_count": null,
   "id": "72ff76e0-60ea-469c-a6aa-27597c32c09b",
   "metadata": {},
   "outputs": [],
   "source": []
  },
  {
   "cell_type": "code",
   "execution_count": null,
   "id": "e1e3a2d1-5521-4734-9b4f-7c93f267fce6",
   "metadata": {},
   "outputs": [],
   "source": []
  }
 ],
 "metadata": {
  "kernelspec": {
   "display_name": "Python 3 (ipykernel)",
   "language": "python",
   "name": "python3"
  },
  "language_info": {
   "codemirror_mode": {
    "name": "ipython",
    "version": 3
   },
   "file_extension": ".py",
   "mimetype": "text/x-python",
   "name": "python",
   "nbconvert_exporter": "python",
   "pygments_lexer": "ipython3",
   "version": "3.10.14"
  }
 },
 "nbformat": 4,
 "nbformat_minor": 5
}
