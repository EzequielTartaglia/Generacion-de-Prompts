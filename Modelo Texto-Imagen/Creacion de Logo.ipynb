{
 "cells": [
  {
   "cell_type": "markdown",
   "id": "f48d1e4f-5bf0-4291-9f10-e4fa452dfee6",
   "metadata": {},
   "source": [
    "1. Import openAI dependences (load with conda install openai)"
   ]
  },
  {
   "cell_type": "code",
   "execution_count": 16,
   "id": "6f5e6bba-f9b0-4d27-a0c2-ceede346e2fd",
   "metadata": {
    "scrolled": true
   },
   "outputs": [],
   "source": [
    "\n",
    "#Import openAI dependences (module)\n",
    "import openai\n",
    "import requests\n",
    "import os\n",
    "from io import BytesIO\n",
    "from PIL import Image\n"
   ]
  },
  {
   "cell_type": "markdown",
   "id": "6180968b-5de0-4e1d-91e1-bb0607b62ebe",
   "metadata": {},
   "source": [
    "2. Use the API Key from openAI page"
   ]
  },
  {
   "cell_type": "code",
   "execution_count": 2,
   "id": "aaa13f6c-6aee-4ddd-92b7-33dbbf66ea3c",
   "metadata": {},
   "outputs": [],
   "source": [
    "#Add our API Key copied from openAI page\n",
    "openai.api_key = \"\" #Example -> dw-bQyr9128F49VJRNKAnST32lbkFJ2Zv4qEhWo4R0Xh6yrh15"
   ]
  },
  {
   "cell_type": "markdown",
   "id": "133396b5-0a78-4b9a-a1c0-8c81d7744f9b",
   "metadata": {},
   "source": [
    "3. Make a request"
   ]
  },
  {
   "cell_type": "code",
   "execution_count": 8,
   "id": "f7c1fc76-a9ea-4df9-9324-d83bba8bfc0c",
   "metadata": {
    "scrolled": true
   },
   "outputs": [
    {
     "name": "stdout",
     "output_type": "stream",
     "text": [
      "Ingrese una frase para crear su logo:  Revolcion de las IA\n"
     ]
    }
   ],
   "source": [
    "#Make the context of our prompt envoirement\n",
    "context = 'Eres un asistente especialista en creacion de logos minimalistas, a partir de una frase la cual puede ser inconclusa o no. Tendras la capacidad de crear un prompt descriptivo para la creacion de una imagen en otro modelo de IA'\n",
    "\n",
    "#prompt (text/user's question)\n",
    "prompt = input(\"Ingrese una frase para crear su logo: \")\\\n",
    "\n",
    "#print(prompt)"
   ]
  },
  {
   "cell_type": "markdown",
   "id": "a42ce140-d99c-492e-ad64-9de2719ea75e",
   "metadata": {},
   "source": [
    "4. Settings"
   ]
  },
  {
   "cell_type": "code",
   "execution_count": 12,
   "id": "1ce51fc0-ce3e-4db1-8ab5-4d9447252af9",
   "metadata": {},
   "outputs": [
    {
     "name": "stdout",
     "output_type": "stream",
     "text": [
      "assistant: ¡Claro! Para crear un logo minimalista que represente la frase \"Revolución de las IA\", podríamos optar por un diseño que combine elementos tecnológicos y futuristas con una paleta de colores moderna y llamativa. El logo podría incluir formas geométricas simples que simbolicen el avance y la evolución de la inteligencia artificial, así como un estilo limpio y sofisticado que refleje la innovación y el progreso en el campo de la tecnología. ¡Estoy segura de que el resultado final será impactante!\n"
     ]
    }
   ],
   "source": [
    "# Make the request\n",
    "conversation = [\n",
    "    {\"role\": \"system\", \"content\": context},\n",
    "    {\"role\": \"user\", \"content\": prompt}\n",
    "]\n",
    "\n",
    "response = openai.ChatCompletion.create(\n",
    "    model='gpt-3.5-turbo',\n",
    "    messages=conversation,\n",
    "    max_tokens=500\n",
    ")\n",
    "\n",
    "message = response.choices[0]['message']\n",
    "print(\"{}: {}\".format(message['role'], message['content']))"
   ]
  },
  {
   "cell_type": "markdown",
   "id": "1e57d4c6-d1aa-48fc-80dd-530bfcebab65",
   "metadata": {},
   "source": [
    "5. Storage the response in any variable & make the model"
   ]
  },
  {
   "cell_type": "code",
   "execution_count": 13,
   "id": "abb2ce41-0dc8-46f9-8137-aca58604bcbf",
   "metadata": {},
   "outputs": [
    {
     "name": "stdout",
     "output_type": "stream",
     "text": [
      "Prompt para crear el logo minimalista: ¡Claro! Para crear un logo minimalista que represente la frase \"Revolución de las IA\", podríamos optar por un diseño que combine elementos tecnológicos y futuristas con una paleta de colores moderna y llamativa. El logo podría incluir formas geométricas simples que simbolicen el avance y la evolución de la inteligencia artificial, así como un estilo limpio y sofisticado que refleje la innovación y el progreso en el campo de la tecnología. ¡Estoy segura de que el resultado final será impactante!\n"
     ]
    }
   ],
   "source": [
    "#Storage the response in a variable to use it\n",
    "logo_description_made = response['choices'][0]['message']['content'].strip()\n",
    "\n",
    "#Use the variable\n",
    "print(\"Prompt para crear el logo minimalista:\", logo_description_made)\n"
   ]
  },
  {
   "cell_type": "code",
   "execution_count": 14,
   "id": "dfd2af83-1752-4610-96f5-4f3d9bfed01d",
   "metadata": {},
   "outputs": [
    {
     "name": "stdout",
     "output_type": "stream",
     "text": [
      "https://oaidalleapiprodscus.blob.core.windows.net/private/org-VQyNQRWDgspjldCWllprBfXW/user-S4qyX2ildshTnVDpy87KApyu/img-q9hqf9nkyYC8VxggwKafaTEb.png?st=2024-04-09T23%3A26%3A13Z&se=2024-04-10T01%3A26%3A13Z&sp=r&sv=2021-08-06&sr=b&rscd=inline&rsct=image/png&skoid=6aaadede-4fb3-4698-a8f6-684d7786b067&sktid=a48cca56-e6da-484e-a814-9c849652bcb3&skt=2024-04-09T00%3A42%3A28Z&ske=2024-04-10T00%3A42%3A28Z&sks=b&skv=2021-08-06&sig=HlwXjC0O/tT6IduMVCzkF2Q5fdCARUDsaIGcmcn4GRo%3D\n"
     ]
    }
   ],
   "source": [
    "# Now use story_made as the context for a new prompt\n",
    "logo_from_phase = f\"En base a la frase anterior, crea una imagen que represente el logo descrito: {logo_description_made}\"\n",
    "\n",
    "# Add the new user message with the image prompt\n",
    "conversation.append({\"role\": \"user\", \"content\": logo_from_phase})\n",
    "\n",
    "# Make the request for the image prompt\n",
    "image_response = openai.Image.create(\n",
    "    prompt=logo_from_phase,\n",
    "    n=1,\n",
    "    size=\"1024x1024\"\n",
    ")\n",
    "\n",
    "# Get and print the generated image URL\n",
    "print(image_response['data'][0]['url'])\n"
   ]
  },
  {
   "cell_type": "code",
   "execution_count": 18,
   "id": "7c81a48d-a77c-45f7-bfcd-9a384bffc2ac",
   "metadata": {},
   "outputs": [
    {
     "name": "stdout",
     "output_type": "stream",
     "text": [
      "La imagen ha sido descargada y almacenada correctamente en: ./generated_images/tT6IduMVCzkF2Q5fdCARUDsaIGcmcn4GRo%3D.png\n",
      "<PIL.PngImagePlugin.PngImageFile image mode=RGB size=1024x1024 at 0x1AA0E6356F0>\n"
     ]
    }
   ],
   "source": [
    "# Download the logo\n",
    "response = requests.get(image_response['data'][0]['url'])\n",
    "\n",
    "# Verify if possible to download\n",
    "if response.status_code == 200:\n",
    "    # Get filename\n",
    "    filename = os.path.basename(image_response['data'][0]['url'])\n",
    "        # Agregar la extensión \".png\"\n",
    "    filename += \".png\"\n",
    "    \n",
    "    # Directory to save the image\n",
    "    directory = \"./generated_images/\"\n",
    "    \n",
    "    # Make directory if not exists\n",
    "    if not os.path.exists(directory):\n",
    "        os.makedirs(directory)\n",
    "    \n",
    "    # Complete path\n",
    "    filepath = os.path.join(directory, filename)\n",
    "    \n",
    "    # Save the image\n",
    "    with open(filepath, 'wb') as f:\n",
    "        f.write(response.content)\n",
    "        \n",
    "    print(\"La imagen ha sido descargada y almacenada correctamente en:\", filepath)\n",
    "\n",
    "\n",
    "else:\n",
    "    print(\"Hubo un error al descargar la imagen.\")"
   ]
  },
  {
   "cell_type": "code",
   "execution_count": null,
   "id": "29e6a548-3be0-40dc-965b-2f51fff28e40",
   "metadata": {},
   "outputs": [],
   "source": []
  }
 ],
 "metadata": {
  "kernelspec": {
   "display_name": "Python 3 (ipykernel)",
   "language": "python",
   "name": "python3"
  },
  "language_info": {
   "codemirror_mode": {
    "name": "ipython",
    "version": 3
   },
   "file_extension": ".py",
   "mimetype": "text/x-python",
   "name": "python",
   "nbconvert_exporter": "python",
   "pygments_lexer": "ipython3",
   "version": "3.10.13"
  }
 },
 "nbformat": 4,
 "nbformat_minor": 5
}
