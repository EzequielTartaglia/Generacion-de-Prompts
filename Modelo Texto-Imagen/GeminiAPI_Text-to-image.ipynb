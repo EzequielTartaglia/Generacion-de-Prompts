{
 "cells": [
  {
   "cell_type": "code",
   "execution_count": 7,
   "id": "317d6bc6-02f8-4bac-9f95-7c1864bdda09",
   "metadata": {},
   "outputs": [
    {
     "name": "stdout",
     "output_type": "stream",
     "text": [
      "I will generate an image of a beagle with bright eyes and visible cybernetic implants integrated into its fur. The beagle will be walking through a dimly lit, rain-soaked alley in a futuristic Tokyo. Neon signs will cast reflections in the puddles on the ground, and tall buildings with holographic advertisements will be visible in the background. The beagle will be wearing a tactical harness that shows some wires and a small LED light. A faint blue light will emanate from the cybernetic implants, creating a contrast between the dark, slightly ominous atmosphere and the vibrant technology.\n",
      "\n",
      "\n"
     ]
    }
   ],
   "source": [
    "from google import genai\n",
    "from google.genai import types\n",
    "from PIL import Image\n",
    "from io import BytesIO\n",
    "import base64\n",
    "\n",
    "client = genai.Client(api_key='API_KEY')\n",
    "\n",
    "image_text= \"\"\"A bright-eyed beagle with gleaming cybernetic implants embedded in its fur, \n",
    "walking through a dark, wet Neo-Tokyo alleyway. Neon lights flicker in puddles, reflecting \n",
    "towering skyscrapers and holographic billboards. The beagle wears a tactical harness with \n",
    "exposed wires and a small LED light-emitting device. There's a subtle blue glow around its \n",
    "implants. The atmosphere is grim yet vibrant, with light rain and an air of technological mystery.\"\"\"\n",
    "\n",
    "contents = (image_text)\n",
    "\n",
    "response = client.models.generate_content(\n",
    "    model=\"gemini-2.0-flash-preview-image-generation\",\n",
    "    contents=contents,\n",
    "    config=types.GenerateContentConfig(\n",
    "      response_modalities=['TEXT', 'IMAGE']\n",
    "    )\n",
    ")\n",
    "\n",
    "for part in response.candidates[0].content.parts:\n",
    "  if part.text is not None:\n",
    "    print(part.text)\n",
    "  elif part.inline_data is not None:\n",
    "    image = Image.open(BytesIO((part.inline_data.data)))\n",
    "    image.save('gemini-native-image.png')\n",
    "    image.show()"
   ]
  },
  {
   "cell_type": "code",
   "execution_count": null,
   "id": "e62d6c62-67b4-4758-8455-210d3a0e3dea",
   "metadata": {},
   "outputs": [],
   "source": []
  }
 ],
 "metadata": {
  "kernelspec": {
   "display_name": "Python 3 (ipykernel)",
   "language": "python",
   "name": "python3"
  },
  "language_info": {
   "codemirror_mode": {
    "name": "ipython",
    "version": 3
   },
   "file_extension": ".py",
   "mimetype": "text/x-python",
   "name": "python",
   "nbconvert_exporter": "python",
   "pygments_lexer": "ipython3",
   "version": "3.10.13"
  }
 },
 "nbformat": 4,
 "nbformat_minor": 5
}
