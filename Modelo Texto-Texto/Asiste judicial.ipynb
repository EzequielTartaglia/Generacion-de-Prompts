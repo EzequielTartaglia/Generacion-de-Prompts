{
 "cells": [
  {
   "cell_type": "code",
   "execution_count": 31,
   "id": "ec2237e3-0f31-42ed-9b01-602cf704e0ea",
   "metadata": {},
   "outputs": [],
   "source": [
    "import openai"
   ]
  },
  {
   "cell_type": "code",
   "execution_count": 32,
   "id": "9cee2e79-7b89-477e-87da-d498f141805f",
   "metadata": {},
   "outputs": [],
   "source": [
    "openai.api_key = \"\""
   ]
  },
  {
   "cell_type": "code",
   "execution_count": 33,
   "id": "ea4ae08a-02b9-4662-9add-b71975c877e5",
   "metadata": {},
   "outputs": [],
   "source": [
    "context =\"Eres un abogado judicial de Argentina que se encarga de asesorar a las personas respondiendo a las consultas para determinar si son legales o no\""
   ]
  },
  {
   "cell_type": "code",
   "execution_count": 39,
   "id": "93806f42-54d9-4d11-8c10-7d7ba7a7c35e",
   "metadata": {},
   "outputs": [],
   "source": [
    "def consultar_legalidad_proceso(descripcion_caso, system_context = context, lawer_type = \"Penal\"):\n",
    "    # Pregunta a OpenAI sobre la legalidad del proceso\n",
    "    prompt = f\"Descripción del caso: {descripcion_caso} con un profesional de leyes especializado en {lawer_type} \\n¿El proceso es legal o ilegal?\"\n",
    "\n",
    "     # Make the request\n",
    "    conversation = [\n",
    "    {\"role\": \"system\", \"content\": context},\n",
    "    {\"role\": \"user\", \"content\": prompt}\n",
    "    ]\n",
    "    \n",
    "    # Genera la respuesta usando OpenAI\n",
    "    response = openai.ChatCompletion.create(\n",
    "      model='gpt-3.5-turbo',\n",
    "      messages=conversation,\n",
    "      max_tokens=1000\n",
    "    )\n",
    "\n",
    "    phase = response['choices'][0]['message']['content'].strip()\n",
    "    #Use the variable\n",
    "    print(phase)\n"
   ]
  },
  {
   "cell_type": "code",
   "execution_count": 38,
   "id": "daeecb3d-ded0-4ace-9711-2cd17e2358de",
   "metadata": {},
   "outputs": [
    {
     "name": "stdin",
     "output_type": "stream",
     "text": [
      "¿Que especialidad del profesional de la ley buscas? Empresarial\n"
     ]
    },
    {
     "name": "stdout",
     "output_type": "stream",
     "text": [
      "Empresarial\n"
     ]
    }
   ],
   "source": [
    "kind_of_lawer = input(\"¿Que especialidad del profesional de la ley buscas?\")\n",
    "                      \n",
    "print(kind_of_lawer)"
   ]
  },
  {
   "cell_type": "code",
   "execution_count": 40,
   "id": "2f3ce3b9-61bf-4110-bf42-6a48d0ff5b90",
   "metadata": {},
   "outputs": [
    {
     "name": "stdout",
     "output_type": "stream",
     "text": [
      "En el estado de California, Estados Unidos, la ley laboral establece que los empleadores pueden despedir a un empleado \"at-will\", es decir, sin previo aviso y sin tener que proporcionar una razón específica para el despido. Esto es legal siempre y cuando el motivo del despido no sea discriminatorio o contrario a alguna ley de protección al empleado, como las leyes que prohíben la discriminación por motivos de raza, género, religión, orientación sexual, entre otros.\n",
      "\n",
      "Por lo tanto, en términos generales, un empleador en California puede despedir a un empleado sin previo aviso, siempre y cuando no sea por motivos ilegales de discriminación u otras violaciones a las leyes laborales.\n",
      "\n",
      "Es importante señalar que las leyes laborales pueden variar dependiendo del estado y la situación específica, por lo que se recomienda consultar a un abogado especializado en leyes laborales de California para obtener asesoramiento legal específico sobre un caso en particular.\n"
     ]
    }
   ],
   "source": [
    "consultar_legalidad_proceso(\"¿Es legal que un empleador despida a un empleado sin previo aviso en el estado de California?\",context , kind_of_lawer)"
   ]
  },
  {
   "cell_type": "code",
   "execution_count": 41,
   "id": "70ecef88-1869-45ea-8a46-49833f81389d",
   "metadata": {},
   "outputs": [
    {
     "name": "stdout",
     "output_type": "stream",
     "text": [
      "En Argentina, el despido injustificado por parte de una empresa es ilegal y está penado por la ley. Cuando un empleador despide a un trabajador sin una causa justificada, dicho despido se considera injustificado y puede ser objeto de acciones legales por parte del trabajador despedido.\n",
      "\n",
      "Las penalidades por un despido injustificado pueden incluir el pago de una indemnización al trabajador despedido, que puede ser de hasta 3 años de salario, dependiendo de ciertas circunstancias, como la antigüedad en el empleo y el tipo de contrato laboral.\n",
      "\n",
      "En cuanto al proceso legal, si un trabajador considera que ha sido despedido injustificadamente, puede iniciar una acción legal ante la justicia laboral para reclamar la indemnización correspondiente y posiblemente la reinstalación en su puesto de trabajo. Es importante contar con la asesoría de un abogado especializado en derecho laboral para llevar adelante este tipo de reclamos.\n",
      "\n",
      "En resumen, un despido injustificado por una empresa en Argentina es ilegal y puede acarrear consecuencias legales para el empleador, incluyendo el pago de indemnizaciones al trabajador despedido.\n"
     ]
    }
   ],
   "source": [
    "consultar_legalidad_proceso(\"¿Cuales son las penalidades de un despido injustificado por una empresa?\",context, kind_of_lawer)"
   ]
  },
  {
   "cell_type": "code",
   "execution_count": null,
   "id": "f7f950ff-93aa-4eba-aea3-aca4675ffe76",
   "metadata": {},
   "outputs": [],
   "source": []
  }
 ],
 "metadata": {
  "kernelspec": {
   "display_name": "Python 3 (ipykernel)",
   "language": "python",
   "name": "python3"
  },
  "language_info": {
   "codemirror_mode": {
    "name": "ipython",
    "version": 3
   },
   "file_extension": ".py",
   "mimetype": "text/x-python",
   "name": "python",
   "nbconvert_exporter": "python",
   "pygments_lexer": "ipython3",
   "version": "3.10.13"
  }
 },
 "nbformat": 4,
 "nbformat_minor": 5
}
