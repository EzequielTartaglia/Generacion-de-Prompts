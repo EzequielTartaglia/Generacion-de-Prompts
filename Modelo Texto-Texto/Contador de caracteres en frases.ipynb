{
 "cells": [
  {
   "cell_type": "markdown",
   "id": "f48d1e4f-5bf0-4291-9f10-e4fa452dfee6",
   "metadata": {},
   "source": [
    "1. Import openAI dependences (load with conda install openai)"
   ]
  },
  {
   "cell_type": "code",
   "execution_count": 16,
   "id": "6f5e6bba-f9b0-4d27-a0c2-ceede346e2fd",
   "metadata": {
    "scrolled": true
   },
   "outputs": [],
   "source": [
    "\n",
    "#Import openAI dependences (module)\n",
    "import openai"
   ]
  },
  {
   "cell_type": "markdown",
   "id": "6180968b-5de0-4e1d-91e1-bb0607b62ebe",
   "metadata": {},
   "source": [
    "2. Use the API Key from openAI page"
   ]
  },
  {
   "cell_type": "code",
   "execution_count": 17,
   "id": "aaa13f6c-6aee-4ddd-92b7-33dbbf66ea3c",
   "metadata": {},
   "outputs": [],
   "source": [
    "#Add our API Key copied from openAI page\n",
    "openai.api_key = \"\" #Example -> dw-bQyr9128F49VJRNKAnST32lbkFJ2Zv4qEhWo4R0Xh6yrh15"
   ]
  },
  {
   "cell_type": "markdown",
   "id": "133396b5-0a78-4b9a-a1c0-8c81d7744f9b",
   "metadata": {},
   "source": [
    "3. Make a request"
   ]
  },
  {
   "cell_type": "code",
   "execution_count": 18,
   "id": "f7c1fc76-a9ea-4df9-9324-d83bba8bfc0c",
   "metadata": {
    "scrolled": true
   },
   "outputs": [],
   "source": [
    "#Make the context of our prompt envoirement\n",
    "context = \"Eres un procesador de texto que necesita contar caracteres para determinar el tamaño de una frase\"\n",
    "\n",
    "#prompt (text/user's question)\n",
    "prompt = \"El sol brillaba intensamente en el cielo azul, iluminando el paisaje con su cálido resplandor. Las aves cantaban alegremente en los árboles, creando una melodía armoniosa que llenaba el aire. Las flores desplegaban sus colores vibrantes, embelleciendo el prado con su exquisita belleza. El viento suave acariciaba suavemente mi rostro, trayendo consigo el aroma fresco de la naturaleza. Los niños jugaban felices en el parque, riendo y correteando sin preocupaciones. Las nubes se desplazaban lentamente en el cielo, formando figuras caprichosas y cambiantes. El río fluía tranquilamente a lo lejos, reflejando la luz del sol en sus aguas serenas. En ese momento, me sentí completamente en paz, disfrutando de la calma y la belleza que me rodeaba.\""
   ]
  },
  {
   "cell_type": "markdown",
   "id": "a42ce140-d99c-492e-ad64-9de2719ea75e",
   "metadata": {},
   "source": [
    "4. Settings"
   ]
  },
  {
   "cell_type": "code",
   "execution_count": 19,
   "id": "1ce51fc0-ce3e-4db1-8ab5-4d9447252af9",
   "metadata": {},
   "outputs": [
    {
     "name": "stdout",
     "output_type": "stream",
     "text": [
      "assistant: El texto tiene 543 caracteres, incluyendo espacios y signos de puntuación.\n"
     ]
    }
   ],
   "source": [
    "# Make the request\n",
    "conversation = [\n",
    "    {\"role\": \"system\", \"content\": context},\n",
    "    {\"role\": \"user\", \"content\": prompt}\n",
    "]\n",
    "\n",
    "response = openai.ChatCompletion.create(\n",
    "    model='gpt-3.5-turbo',\n",
    "    messages=conversation,\n",
    "    max_tokens=4000\n",
    ")\n",
    "\n",
    "message = response.choices[0]['message']\n",
    "print(\"{}: {}\".format(message['role'], message['content']))"
   ]
  },
  {
   "cell_type": "markdown",
   "id": "1e57d4c6-d1aa-48fc-80dd-530bfcebab65",
   "metadata": {},
   "source": [
    "5. Storage the response in any variable"
   ]
  },
  {
   "cell_type": "code",
   "execution_count": 20,
   "id": "abb2ce41-0dc8-46f9-8137-aca58604bcbf",
   "metadata": {},
   "outputs": [
    {
     "name": "stdout",
     "output_type": "stream",
     "text": [
      "La cantidad de caracteres en esta frase es: El texto tiene 543 caracteres, incluyendo espacios y signos de puntuación.\n"
     ]
    }
   ],
   "source": [
    "#Storage the response in a variable to use it\n",
    "primer_converzacion = response['choices'][0]['message']['content'].strip()\n",
    "\n",
    "#Use the variable\n",
    "print(\"La cantidad de caracteres en esta frase es:\", primer_converzacion)\n"
   ]
  },
  {
   "cell_type": "code",
   "execution_count": 21,
   "id": "319a0bbc-0af1-4006-aea0-78dc22675505",
   "metadata": {},
   "outputs": [
    {
     "name": "stdout",
     "output_type": "stream",
     "text": [
      "La cantidad de caracteres en el texto es: 747\n"
     ]
    }
   ],
   "source": [
    "#Test it with python's code\n",
    "lenght = len(prompt)\n",
    "print(f\"La cantidad de caracteres en el texto es: {lenght}\")"
   ]
  },
  {
   "cell_type": "code",
   "execution_count": null,
   "id": "4d21f119-4305-4db9-8cd1-243b84b24bd6",
   "metadata": {},
   "outputs": [],
   "source": []
  }
 ],
 "metadata": {
  "kernelspec": {
   "display_name": "Python 3 (ipykernel)",
   "language": "python",
   "name": "python3"
  },
  "language_info": {
   "codemirror_mode": {
    "name": "ipython",
    "version": 3
   },
   "file_extension": ".py",
   "mimetype": "text/x-python",
   "name": "python",
   "nbconvert_exporter": "python",
   "pygments_lexer": "ipython3",
   "version": "3.10.13"
  }
 },
 "nbformat": 4,
 "nbformat_minor": 5
}
