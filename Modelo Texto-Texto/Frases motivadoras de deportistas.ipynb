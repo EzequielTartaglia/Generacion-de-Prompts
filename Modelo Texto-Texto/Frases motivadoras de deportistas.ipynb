{
 "cells": [
  {
   "cell_type": "markdown",
   "id": "f48d1e4f-5bf0-4291-9f10-e4fa452dfee6",
   "metadata": {},
   "source": [
    "1. Import openAI dependences (load with conda install openai)"
   ]
  },
  {
   "cell_type": "code",
   "execution_count": 1,
   "id": "6f5e6bba-f9b0-4d27-a0c2-ceede346e2fd",
   "metadata": {
    "scrolled": true
   },
   "outputs": [],
   "source": [
    "#Import openAI dependences (module)\n",
    "import openai"
   ]
  },
  {
   "cell_type": "markdown",
   "id": "6180968b-5de0-4e1d-91e1-bb0607b62ebe",
   "metadata": {},
   "source": [
    "2. Use the API Key from openAI page"
   ]
  },
  {
   "cell_type": "code",
   "execution_count": 2,
   "id": "aaa13f6c-6aee-4ddd-92b7-33dbbf66ea3c",
   "metadata": {},
   "outputs": [],
   "source": [
    "#Add our API Key copied from openAI page\n",
    "openai.api_key = \"\" #Example -> dw-bQyr9128F49VJRNKAnST32lbkFJ2Zv4qEhWo4R0Xh6yrh15"
   ]
  },
  {
   "cell_type": "markdown",
   "id": "133396b5-0a78-4b9a-a1c0-8c81d7744f9b",
   "metadata": {},
   "source": [
    "3. Make a request"
   ]
  },
  {
   "cell_type": "code",
   "execution_count": 19,
   "id": "f7c1fc76-a9ea-4df9-9324-d83bba8bfc0c",
   "metadata": {
    "scrolled": true
   },
   "outputs": [],
   "source": [
    "#Make the context of our prompt envoirement\n",
    "context = \"Eres un coach deportivo que necesita levantar la moral de la persona que acude por ayuda. Puedes utilizar solamente frases de deportistas y el nombre de quien lo cita.\""
   ]
  },
  {
   "cell_type": "code",
   "execution_count": 22,
   "id": "233c3764-1b43-4b52-a6a9-dadcc508499a",
   "metadata": {},
   "outputs": [
    {
     "name": "stdin",
     "output_type": "stream",
     "text": [
      "¿Te encuentras desmotivada/o por causa de una lession? (Y/N) y\n",
      "¿Es Fisica o Emocional? F/E e\n"
     ]
    },
    {
     "name": "stdout",
     "output_type": "stream",
     "text": [
      "Tengo un problema emocional\n"
     ]
    },
    {
     "name": "stdin",
     "output_type": "stream",
     "text": [
      "Deporte: Ajedrez\n"
     ]
    },
    {
     "name": "stdout",
     "output_type": "stream",
     "text": [
      "Ajedrez\n"
     ]
    },
    {
     "name": "stdin",
     "output_type": "stream",
     "text": [
      "¿Deseas que la frase en español o ingles? Ingles\n"
     ]
    },
    {
     "name": "stdout",
     "output_type": "stream",
     "text": [
      "Ingles\n",
      "\"Don't be afraid of losing, be afraid of playing a game and not learning something.\" - Josh Waitzkin.\n"
     ]
    },
    {
     "name": "stdin",
     "output_type": "stream",
     "text": [
      "¿Deseas otra frase? Y/N y\n"
     ]
    },
    {
     "name": "stdout",
     "output_type": "stream",
     "text": [
      "\"La amenaza de un sacrificio es más fuerte que su ejecución\" - Aaron Nimzowitsch.\n"
     ]
    },
    {
     "name": "stdin",
     "output_type": "stream",
     "text": [
      "¿Deseas otra frase? Y/N y\n"
     ]
    },
    {
     "name": "stdout",
     "output_type": "stream",
     "text": [
      "\"Chess is everything - art, science, and sport.\" - Anatoly Karpov. ¡Recuerda que el ajedrez es un juego que combina diferentes aspectos y que cada movimiento cuenta en tu partida! ¡Animo!\n"
     ]
    },
    {
     "name": "stdin",
     "output_type": "stream",
     "text": [
      "¿Deseas otra frase? Y/N n\n"
     ]
    },
    {
     "name": "stdout",
     "output_type": "stream",
     "text": [
      "Te esperamos pronto\n"
     ]
    }
   ],
   "source": [
    "continue_loop = True\n",
    "\n",
    "# Ask follow-up questions\n",
    "reason = input(\"¿Te encuentras desmotivada/o por causa de una lession? (Y/N)\")\n",
    "    \n",
    "#Condition when the user had an issue\n",
    "if reason.upper() == \"Y\":\n",
    "    kind_of_issue = input(\"¿Es Fisica o Emocional? F/E\")\n",
    "    if kind_of_issue.upper() == \"F\": \n",
    "        problem = \"Tengo un problema fisico\"\n",
    "    else:\n",
    "        problem = \"Tengo un problema emocional\"\n",
    "            \n",
    "# Other reasons\n",
    "else:\n",
    "    problem = input(\"¿Cual es la razon por la que estas desmotivado?\")\n",
    "    \n",
    "    # Print the result\n",
    "print(problem)\n",
    "\n",
    "kind_of_sport = input(\"Deporte:\")\n",
    "print(kind_of_sport)\n",
    "\n",
    "language = input(\"¿Deseas que la frase en español o ingles?\")\n",
    "print(language)\n",
    "\n",
    "#Compile the answers\n",
    "\n",
    "#prompt (text/user's question)\n",
    "prompt = f\"Me encuentro desmotivada/o a causa de {problem} necesito una frase motivadora de algun deportista famoso del {kind_of_sport} con su respectivo nombre en el lenguaje {language}\"\n",
    "\n",
    "while continue_loop:\n",
    "\n",
    "    # Make the request\n",
    "    conversation = [\n",
    "    {\"role\": \"system\", \"content\": context},\n",
    "    {\"role\": \"user\", \"content\": prompt}\n",
    "    ]\n",
    "\n",
    "    response = openai.ChatCompletion.create(\n",
    "    model='gpt-3.5-turbo',\n",
    "    messages=conversation,\n",
    "    max_tokens=4000\n",
    "    )\n",
    "\n",
    "    #Storage the response in a variable to use it\n",
    "    phase = response['choices'][0]['message']['content'].strip()\n",
    "    \n",
    "    #Use the variable\n",
    "    print(phase)\n",
    "\n",
    "    choice = input(\"¿Deseas otra frase? Y/N\")\n",
    "    if choice.upper() == \"Y\":\n",
    "        continue_loop = True\n",
    "    else:\n",
    "        continue_loop = False\n",
    "        break;\n",
    "print(\"Te esperamos pronto\")\n",
    "    "
   ]
  }
 ],
 "metadata": {
  "kernelspec": {
   "display_name": "Python 3 (ipykernel)",
   "language": "python",
   "name": "python3"
  },
  "language_info": {
   "codemirror_mode": {
    "name": "ipython",
    "version": 3
   },
   "file_extension": ".py",
   "mimetype": "text/x-python",
   "name": "python",
   "nbconvert_exporter": "python",
   "pygments_lexer": "ipython3",
   "version": "3.10.14"
  }
 },
 "nbformat": 4,
 "nbformat_minor": 5
}
