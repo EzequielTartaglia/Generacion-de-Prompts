{
 "cells": [
  {
   "cell_type": "markdown",
   "id": "f48d1e4f-5bf0-4291-9f10-e4fa452dfee6",
   "metadata": {},
   "source": [
    "1. Import openAI dependences (load with conda install openai)"
   ]
  },
  {
   "cell_type": "code",
   "execution_count": 1,
   "id": "6f5e6bba-f9b0-4d27-a0c2-ceede346e2fd",
   "metadata": {
    "scrolled": true
   },
   "outputs": [],
   "source": [
    "#Import openAI dependences (module)\n",
    "import openai"
   ]
  },
  {
   "cell_type": "markdown",
   "id": "6180968b-5de0-4e1d-91e1-bb0607b62ebe",
   "metadata": {},
   "source": [
    "2. Use the API Key from openAI page"
   ]
  },
  {
   "cell_type": "code",
   "execution_count": 2,
   "id": "aaa13f6c-6aee-4ddd-92b7-33dbbf66ea3c",
   "metadata": {},
   "outputs": [],
   "source": [
    "#Add our API Key copied from openAI page\n",
    "openai.api_key = \"\" #Example -> dw-bQyr9128F49VJRNKAnST32lbkFJ2Zv4qEhWo4R0Xh6yrh15"
   ]
  },
  {
   "cell_type": "markdown",
   "id": "133396b5-0a78-4b9a-a1c0-8c81d7744f9b",
   "metadata": {},
   "source": [
    "3. Make a request"
   ]
  },
  {
   "cell_type": "code",
   "execution_count": 9,
   "id": "f7c1fc76-a9ea-4df9-9324-d83bba8bfc0c",
   "metadata": {
    "scrolled": true
   },
   "outputs": [
    {
     "name": "stdout",
     "output_type": "stream",
     "text": [
      "Ingresa un tema para tu web: cyberpunk\n",
      "Ingresa una plataforma para tomar como referencia en tu web: wikipedia\n",
      "Ingresa un texto para la web: El **cyberpunk** es un subgénero de la ciencia ficción ambientado en un futuro distópico donde la **tecnología** avanzada coexiste con una baja calidad de vida. Este mundo está dominado por **megacorporaciones** y habitado por **hackers** y **cyborgs** que navegan en la **red** buscando información. La **realidad aumentada** y la **inteligencia artificial** son parte del día a día, y la **cultura urbana** está influenciada por la tecnología y el **ciberespacio**.\n"
     ]
    }
   ],
   "source": [
    "#Make the context of our prompt envoirement\n",
    "context = 'Eres un profesional de la ingenieria de software con amplios conocimientos sobre sitios web y su desarrollo, debes ejecutar un codigo html, css y js como plantilla para un tema especifico brindado por el usuario.'\n",
    "\n",
    "# Inputs to customize the model\n",
    "topic = input(\"Ingresa un tema para tu web:\")\n",
    "reference_web = input(\"Ingresa una plataforma para tomar como referencia en tu web:\")\n",
    "text_for_web = input(\"Ingresa un texto para la web:\")\n"
   ]
  },
  {
   "cell_type": "code",
   "execution_count": 10,
   "id": "801db585-3418-43ac-aaac-6ba5915fdc10",
   "metadata": {},
   "outputs": [],
   "source": [
    "#prompt (text/user's question)\n",
    "prompt = f'Realizar una web {topic} (solamente HTML y CSS) que remarques palabras no tan comunes para usuarios que no conocen sobre el tema el texto relacionado para trabajar es: {text_for_web} y en aquellas que remarques debe tener un link de referencia a {reference_web}'"
   ]
  },
  {
   "cell_type": "markdown",
   "id": "a42ce140-d99c-492e-ad64-9de2719ea75e",
   "metadata": {},
   "source": [
    "4. Settings"
   ]
  },
  {
   "cell_type": "code",
   "execution_count": 11,
   "id": "1ce51fc0-ce3e-4db1-8ab5-4d9447252af9",
   "metadata": {},
   "outputs": [
    {
     "name": "stdout",
     "output_type": "stream",
     "text": [
      "assistant: Claro, a continuación te dejo un ejemplo de código HTML y CSS para una web cyberpunk que destaca las palabras clave y las vincula a la Wikipedia:\n",
      "\n",
      "```html\n",
      "<!DOCTYPE html>\n",
      "<html lang=\"en\">\n",
      "<head>\n",
      "<meta charset=\"UTF-8\">\n",
      "<meta name=\"viewport\" content=\"width=device-width, initial-scale=1.0\">\n",
      "<title>Cyberpunk World</title>\n",
      "<link rel=\"stylesheet\" href=\"styles.css\">\n",
      "</head>\n",
      "<body>\n",
      "<div class=\"container\">\n",
      "  <h1>Explorando el mundo Cyberpunk</h1>\n",
      "  <p>El <a href=\"https://es.wikipedia.org/wiki/Cyberpunk\" class=\"highlight\">cyberpunk</a> es un subgénero de la ciencia ficción ambientado en un futuro distópico donde la <a href=\"https://es.wikipedia.org/wiki/Tecnolog%C3%ADa\" class=\"highlight\">tecnología</a> avanzada coexiste con una baja calidad de vida. Este mundo está dominado por <a href=\"https://es.wikipedia.org/wiki/Megacorporaci%C3%B3n\" class=\"highlight\">megacorporaciones</a> y habitado por <a href=\"https://es.wikipedia.org/wiki/Hacker\" class=\"highlight\">hackers</a> y <a href=\"https://es.wikipedia.org/wiki/Cyborg\" class=\"highlight\">cyborgs</a> que navegan en la <a href=\"https://es.wikipedia.org/wiki/Red_de_computadoras\" class=\"highlight\">red</a> buscando información. La <a href=\"https://es.wikipedia.org/wiki/Realidad_aumentada\" class=\"highlight\">realidad aumentada</a> y la <a href=\"https://es.wikipedia.org/wiki/Inteligencia_artificial\" class=\"highlight\">inteligencia artificial</a> son parte del día a día, y la <a href=\"https://es.wikipedia.org/wiki/Cultura_urbana\" class=\"highlight\">cultura urbana</a> está influenciada por la tecnología y el <a href=\"https://es.wikipedia.org/wiki/Ciberespacio\" class=\"highlight\">ciberespacio</a>.</p>\n",
      "</div>\n",
      "</body>\n",
      "</html>\n",
      "```\n",
      "\n",
      "Y el código CSS (guardado en un archivo `styles.css`):\n",
      "\n",
      "```css\n",
      "body {\n",
      "  font-family: Arial, sans-serif;\n",
      "  background-color: #000;\n",
      "  color: #fff;\n",
      "  text-align: center;\n",
      "}\n",
      "\n",
      ".container {\n",
      "  max-width: 800px;\n",
      "  margin: 0 auto;\n",
      "  padding: 20px;\n",
      "}\n",
      "\n",
      ".highlight {\n",
      "  color: #0f9d58; /* Color verde de los enlaces de Google */\n",
      "  text-decoration: none;\n",
      "  border-bottom: 1px solid #0f9d58; /* Crear un efecto de subrayado */\n",
      "  transition: border-bottom 0.3s; /* Animación del subrayado al pasar el ratón */\n",
      "}\n",
      "\n",
      ".highlight:hover {\n",
      "  border-bottom: 2px solid #0f9d58; /* Aumenta el grosor del subrayado al pasar el ratón */\n",
      "}\n",
      "```\n",
      "\n",
      "Este código crea una página web simple con un diseño cyberpunk que resalta las palabras clave y las vincula a la Wikipedia. Puedes personalizar el diseño y los estilos a tu gusto. ¡Espero que te sea de ayuda! Si necesitas más ayuda, ¡aquí estoy!\n"
     ]
    }
   ],
   "source": [
    "# Make the request\n",
    "conversation = [\n",
    "    {\"role\": \"system\", \"content\": context},\n",
    "    {\"role\": \"user\", \"content\": prompt}\n",
    "]\n",
    "\n",
    "response = openai.ChatCompletion.create(\n",
    "    model='gpt-3.5-turbo',\n",
    "    messages=conversation,\n",
    "    max_tokens=4096\n",
    ")\n",
    "\n",
    "message = response.choices[0]['message']\n",
    "print(\"{}: {}\".format(message['role'], message['content']))"
   ]
  },
  {
   "cell_type": "markdown",
   "id": "1e57d4c6-d1aa-48fc-80dd-530bfcebab65",
   "metadata": {},
   "source": [
    "5. Storage the response in any variable"
   ]
  },
  {
   "cell_type": "code",
   "execution_count": null,
   "id": "319a0bbc-0af1-4006-aea0-78dc22675505",
   "metadata": {},
   "outputs": [],
   "source": []
  }
 ],
 "metadata": {
  "kernelspec": {
   "display_name": "Python 3 (ipykernel)",
   "language": "python",
   "name": "python3"
  },
  "language_info": {
   "codemirror_mode": {
    "name": "ipython",
    "version": 3
   },
   "file_extension": ".py",
   "mimetype": "text/x-python",
   "name": "python",
   "nbconvert_exporter": "python",
   "pygments_lexer": "ipython3",
   "version": "3.10.13"
  }
 },
 "nbformat": 4,
 "nbformat_minor": 5
}
