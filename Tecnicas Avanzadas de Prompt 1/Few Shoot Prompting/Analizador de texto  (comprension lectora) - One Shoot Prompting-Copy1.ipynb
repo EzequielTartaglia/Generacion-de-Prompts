{
 "cells": [
  {
   "cell_type": "markdown",
   "id": "c5d8eb0f-683a-42b4-81f8-8cefdb5e2377",
   "metadata": {},
   "source": [
    "# Few Shoot Prompting "
   ]
  },
  {
   "cell_type": "markdown",
   "id": "7222c4c1-e374-437a-9123-bba5d7c20d3d",
   "metadata": {},
   "source": [
    "Un \"few-shot prompting\" se refiere a la práctica de proporcionar solo algunas interacciones o ejemplos de entrada para obtener una respuesta del modelo de lenguaje. En lugar de interactuar en una conversación continua, donde se envían múltiples mensajes de ida y vuelta entre el usuario y el modelo, con el \"few-shot prompting\", se intenta condensar la información necesaria en unas pocas solicitudes para obtener la respuesta deseada."
   ]
  },
  {
   "cell_type": "markdown",
   "id": "b72d6510-92bc-4de4-9e11-21324c5d896d",
   "metadata": {},
   "source": [
    "#### Lab"
   ]
  },
  {
   "cell_type": "markdown",
   "id": "f48d1e4f-5bf0-4291-9f10-e4fa452dfee6",
   "metadata": {},
   "source": [
    "1. Import openAI dependences (load with conda install openai)"
   ]
  },
  {
   "cell_type": "code",
   "execution_count": 3,
   "id": "6f5e6bba-f9b0-4d27-a0c2-ceede346e2fd",
   "metadata": {
    "scrolled": true
   },
   "outputs": [],
   "source": [
    "\n",
    "#Import openAI dependences (module)\n",
    "import openai"
   ]
  },
  {
   "cell_type": "markdown",
   "id": "6180968b-5de0-4e1d-91e1-bb0607b62ebe",
   "metadata": {},
   "source": [
    "2. Use the API Key from openAI page"
   ]
  },
  {
   "cell_type": "code",
   "execution_count": 4,
   "id": "aaa13f6c-6aee-4ddd-92b7-33dbbf66ea3c",
   "metadata": {},
   "outputs": [],
   "source": [
    "#Add our API Key copied from openAI page\n",
    "openai.api_key = \"\" #Example -> dw-bQyr9128F49VJRNKAnST32lbkFJ2Zv4qEhWo4R0Xh6yrh15"
   ]
  },
  {
   "cell_type": "markdown",
   "id": "133396b5-0a78-4b9a-a1c0-8c81d7744f9b",
   "metadata": {},
   "source": [
    "3.1 Make a request (Model to analyze stories)"
   ]
  },
  {
   "cell_type": "code",
   "execution_count": 9,
   "id": "f7c1fc76-a9ea-4df9-9324-d83bba8bfc0c",
   "metadata": {
    "scrolled": true
   },
   "outputs": [
    {
     "name": "stdout",
     "output_type": "stream",
     "text": [
      "Escribe una historia: #    zeus_story = \"\"\" #    Zeus, en la mitología griega, es el dios supremo del Olimpo y el rey de los dioses. Es conocido por su poder, sabiduría y liderazgo. Zeus es el hijo de Cronos y Rea y el hermano mayor de Hades y Poseidón. #   En la historia de Zeus, destaca su victoria sobre los Titanes en la Titanomaquia, la guerra entre los dioses olímpicos y los Titanes. Tras su victoria, Zeus se convirtió en el gobernante indiscutible del Olimpo. #   Además, Zeus es famoso por su papel en el mito de Prometeo, donde castiga a Prometeo por robar el fuego y dárselo a los humanos. También es conocido por sus numerosas aventuras amorosas y la creación de muchos héroes y semidioses. #    \"\"\"\n",
      "Haz una pregunta sobre la historia:  ¿Cuáles fueron las principales hazañas de Zeus durante la Titanomaquia?\n"
     ]
    },
    {
     "name": "stdout",
     "output_type": "stream",
     "text": [
      "Durante la Titanomaquia, las principales hazañas de Zeus incluyeron:\n",
      "\n",
      "1. Liberar a sus hermanos Hades y Poseidón, que estaban encarcelados por su padre Cronos.\n",
      "2. Rescatar a los Cíclopes y los Hecatónquiros del Tártaro y ganar su lealtad en la guerra.\n",
      "3. Utilizar el rayo y el trueno como armas poderosas para luchar contra los Titanes.\n",
      "4. Derrotar al líder de los Titanes, Cronos, y encarcelarlo en el Tártaro.\n",
      "5. Encabezar a los dioses olímpicos en la victoria final contra los Titanes, asegurando así su dominio sobre el Olimpo y el mundo.\n",
      "\n",
      "Estas hazañas fueron cruciales para establecer a Zeus como el gobernante supremo del Olimpo y el rey de los dioses.\n"
     ]
    },
    {
     "name": "stdout",
     "output_type": "stream",
     "text": [
      "¿Quieres hacer otra pregunta? (Si/No):  si\n",
      "Haz una pregunta sobre la historia:  ¿Quién era Zeus?\n"
     ]
    },
    {
     "name": "stdout",
     "output_type": "stream",
     "text": [
      "Zeus era el dios supremo del Olimpo en la mitología griega. Era conocido por su poder, sabiduría y liderazgo. Era hijo de Cronos y Rea, y hermano mayor de Hades y Poseidón. Además de su destacada victoria sobre los Titanes en la Titanomaquia, Zeus también era conocido por su papel en el mito de Prometeo, sus numerosas aventuras amorosas y la creación de muchos héroes y semidioses.\n"
     ]
    },
    {
     "name": "stdout",
     "output_type": "stream",
     "text": [
      "¿Quieres hacer otra pregunta? (Si/No):  no\n"
     ]
    },
    {
     "name": "stdout",
     "output_type": "stream",
     "text": [
      "Saliendo del programa. ¡Gracias!\n"
     ]
    }
   ],
   "source": [
    "# Contexto sobre la historia de Zeus\n",
    "story = input(\"Escribe una historia:\") # Ejemplo: ¿Cuáles fueron las principales hazañas de Zeus durante la Titanomaquia?\n",
    "\n",
    "#    zeus_story = \"\"\"\n",
    "#    Zeus, en la mitología griega, es el dios supremo del Olimpo y el rey de los dioses. Es conocido por su poder, sabiduría y liderazgo. Zeus es el hijo de Cronos y Rea y el hermano mayor de Hades y Poseidón.\n",
    "#   En la historia de Zeus, destaca su victoria sobre los Titanes en la Titanomaquia, la guerra entre los dioses olímpicos y los Titanes. Tras su victoria, Zeus se convirtió en el gobernante indiscutible del Olimpo.\n",
    "#   Además, Zeus es famoso por su papel en el mito de Prometeo, donde castiga a Prometeo por robar el fuego y dárselo a los humanos. También es conocido por sus numerosas aventuras amorosas y la creación de muchos héroes y semidioses.\n",
    "#    \"\"\"\n",
    "\n",
    "# Bucle para hacer preguntas múltiples\n",
    "while True:\n",
    "    # Pregunta sobre la historia de Zeus\n",
    "    user_question = input(\"Haz una pregunta sobre la historia: \") # Ejemplo: ¿Cuáles fueron las principales hazañas de Zeus durante la Titanomaquia?\n",
    "    \n",
    "    # Combinación del contexto y la pregunta\n",
    "    few_shot_prompt = f\"{story}\\nUsuario: {user_question}\"\n",
    "    \n",
    "    # Combinación del contexto y la pregunta con el ejemplo de Zeus\n",
    "    #few_shot_prompt = f\"{zeus_story}\\nUsuario: {user_question}\"\n",
    "    \n",
    "    conversation = [\n",
    "        {\"role\":\"user\",\"content\":few_shot_prompt}\n",
    "        ]\n",
    "    \n",
    "    # Solicitud para obtener la respuesta del modelo\n",
    "    response = openai.ChatCompletion.create(\n",
    "        model='gpt-3.5-turbo',\n",
    "        messages=conversation,\n",
    "        max_tokens=500\n",
    "    )\n",
    "\n",
    "    # Obtiene y muestra la respuesta del modelo\n",
    "    message = response.choices[0]['message']\n",
    "    print(\"{}\".format(message['content']))\n",
    "\n",
    "    if message.find(zeus_characteristics):\n",
    "        print(\"Encontraste la caracteristica principal de Zeus\")\n",
    "    # Pregunta si se quiere hacer otra pregunta\n",
    "    another_question = input(\"¿Quieres hacer otra pregunta? (Si/No): \").lower()\n",
    "\n",
    "    # Condicional para decidir si continuar o salir del bucle\n",
    "    if another_question != 'si':\n",
    "        print(\"Saliendo del programa. ¡Gracias!\")\n",
    "        break"
   ]
  },
  {
   "cell_type": "code",
   "execution_count": null,
   "id": "e99b85c3-6d02-4dbb-af94-8da6c7565abb",
   "metadata": {},
   "outputs": [],
   "source": []
  }
 ],
 "metadata": {
  "kernelspec": {
   "display_name": "Python 3 (ipykernel)",
   "language": "python",
   "name": "python3"
  },
  "language_info": {
   "codemirror_mode": {
    "name": "ipython",
    "version": 3
   },
   "file_extension": ".py",
   "mimetype": "text/x-python",
   "name": "python",
   "nbconvert_exporter": "python",
   "pygments_lexer": "ipython3",
   "version": "3.10.13"
  }
 },
 "nbformat": 4,
 "nbformat_minor": 5
}
