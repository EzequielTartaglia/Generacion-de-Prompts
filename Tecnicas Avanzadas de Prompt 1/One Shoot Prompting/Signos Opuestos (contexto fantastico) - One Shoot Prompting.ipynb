{
 "cells": [
  {
   "cell_type": "markdown",
   "id": "c5d8eb0f-683a-42b4-81f8-8cefdb5e2377",
   "metadata": {},
   "source": [
    "# One Shoot Prompting "
   ]
  },
  {
   "cell_type": "markdown",
   "id": "7222c4c1-e374-437a-9123-bba5d7c20d3d",
   "metadata": {},
   "source": [
    "Un \"one-shot prompting\" o \"solicitud de disparo único\" se refiere a la práctica de hacer una única solicitud o pregunta a un modelo de lenguaje como GPT-3.5-turbo de OpenAI, en lugar de interactuar en una conversación continua. En otras palabras, en lugar de enviar varias interacciones entre el usuario y el modelo, se proporciona toda la información necesaria en una sola solicitud para obtener la respuesta deseada."
   ]
  },
  {
   "cell_type": "markdown",
   "id": "b72d6510-92bc-4de4-9e11-21324c5d896d",
   "metadata": {},
   "source": [
    "#### Lab"
   ]
  },
  {
   "cell_type": "markdown",
   "id": "f48d1e4f-5bf0-4291-9f10-e4fa452dfee6",
   "metadata": {},
   "source": [
    "1. Import openAI dependences (load with conda install openai)"
   ]
  },
  {
   "cell_type": "code",
   "execution_count": 2,
   "id": "6f5e6bba-f9b0-4d27-a0c2-ceede346e2fd",
   "metadata": {
    "scrolled": true
   },
   "outputs": [],
   "source": [
    "\n",
    "#Import openAI dependences (module)\n",
    "import openai"
   ]
  },
  {
   "cell_type": "markdown",
   "id": "6180968b-5de0-4e1d-91e1-bb0607b62ebe",
   "metadata": {},
   "source": [
    "2. Use the API Key from openAI page"
   ]
  },
  {
   "cell_type": "code",
   "execution_count": 3,
   "id": "aaa13f6c-6aee-4ddd-92b7-33dbbf66ea3c",
   "metadata": {},
   "outputs": [],
   "source": [
    "#Add our API Key copied from openAI page\n",
    "openai.api_key = \"\" #Example -> dw-bQyr9128F49VJRNKAnST32lbkFJ2Zv4qEhWo4R0Xh6yrh15"
   ]
  },
  {
   "cell_type": "markdown",
   "id": "133396b5-0a78-4b9a-a1c0-8c81d7744f9b",
   "metadata": {},
   "source": [
    "3.1 Make a request (Real characteristics of aquarian)"
   ]
  },
  {
   "cell_type": "code",
   "execution_count": 4,
   "id": "f7c1fc76-a9ea-4df9-9324-d83bba8bfc0c",
   "metadata": {
    "scrolled": true
   },
   "outputs": [],
   "source": [
    "# Características de Acuario\n",
    "aquarian_characteristics = \"innovador, independiente, amigable, idealista\"\n",
    "\n",
    "#prompt (text/user's question) - One shoot prompting (otherwise than Leo)\n",
    "prompt = f\"Genera las características astrológicas de Leo considerando que es el signo opuesto a Acuario. Sabemos que Acuario es un signo conocido por ser {aquarian_characteristics}, entonces, ¿cómo describirías las características opuestas de Leo?\""
   ]
  },
  {
   "cell_type": "markdown",
   "id": "a42ce140-d99c-492e-ad64-9de2719ea75e",
   "metadata": {},
   "source": [
    "4.1 Settings"
   ]
  },
  {
   "cell_type": "code",
   "execution_count": 12,
   "id": "1ce51fc0-ce3e-4db1-8ab5-4d9447252af9",
   "metadata": {},
   "outputs": [
    {
     "name": "stdout",
     "output_type": "stream",
     "text": [
      "assistant: Las características opuestas de Leo, en comparación con Acuario, podrían ser las siguientes:\n",
      "\n",
      "1. Generoso y apegado a la tradición: Mientras que Acuario tiende a ser independiente y busca romper con las normas establecidas, Leo puede ser más generoso y estar fuertemente apegado a la tradición. Los Leo pueden ser personas que disfrutan dar y recibir regalos, y les gusta mantener las tradiciones familiares o culturales.\n",
      "\n",
      "2. Identidad personal y seguridad emocional: Aunque Acuario puede ser más desapegado emocionalmente, Leo tiende a ser más centrado en su identidad personal y búsqueda de seguridad emocional. Los individuos de Leo pueden buscar reconocimiento y destacarse en diferentes aspectos de su vida, es importante para ellos sentirse validados y apreciados por su entorno.\n",
      "\n",
      "3. Liderazgo y carisma: Si bien tanto Acuario como Leo pueden ser sociables, Leo posee un carisma natural y un magnetismo que les permite destacarse en una multitud. Los Leo suelen ser líderes y tienen una personalidad fuerte y enérgica que atrae a otras personas hacia ellos.\n",
      "\n",
      "4. Necesidad de reconocimiento y atención: Mientras que Acuario puede buscar la independencia y evitar la atención excesiva, Leo necesita y disfruta de la admiración y atención de los demás. Los Leo suelen ser personas muy seguras de sí mismos y buscan destacarse y recibir reconocimiento por sus logros y talentos.\n",
      "\n",
      "5. Fidelidad y lealtad: Aunque Acuario valora la independencia y puede ser más desprendido en las relaciones, los Leo suelen ser leales y comprometidos con sus seres queridos. Valorarán mucho las relaciones sólidas y suelen ser amigos y parejas leales y devotos.\n",
      "\n",
      "Estas son algunas características generales que suelen atribuirse a Leo, tomando en cuenta que son opuestas a las características de Acuario. Sin embargo, es importante recordar que cada individuo es único y puede variar dentro de su propio signo zodiacal.\n"
     ]
    }
   ],
   "source": [
    "# Make the request\n",
    "conversation = [{\"role\": \"user\", \"content\": prompt}] # One request\n",
    "\n",
    "\n",
    "# Make the request\n",
    "response_real = openai.ChatCompletion.create(\n",
    "    model='gpt-3.5-turbo',\n",
    "    messages=conversation,\n",
    "    max_tokens=500\n",
    ")\n",
    "\n",
    "message = response_real.choices[0]['message']\n",
    "print(\"{}: {}\".format(message['role'], message['content']))"
   ]
  },
  {
   "cell_type": "code",
   "execution_count": 19,
   "id": "f9d17e5e-4845-4c9c-b211-53578c54372b",
   "metadata": {},
   "outputs": [],
   "source": [
    "#Storage the response in a variable to use it\n",
    "first_one_shoot_prompting = \"{}\".format(message['content'])"
   ]
  },
  {
   "cell_type": "code",
   "execution_count": 20,
   "id": "c7758bf7-8d7b-492c-b79b-0191dd2fd3f3",
   "metadata": {},
   "outputs": [
    {
     "data": {
      "text/plain": [
       "'Las características opuestas de Leo, en comparación con Acuario, podrían ser las siguientes:\\n\\n1. Generoso y apegado a la tradición: Mientras que Acuario tiende a ser independiente y busca romper con las normas establecidas, Leo puede ser más generoso y estar fuertemente apegado a la tradición. Los Leo pueden ser personas que disfrutan dar y recibir regalos, y les gusta mantener las tradiciones familiares o culturales.\\n\\n2. Identidad personal y seguridad emocional: Aunque Acuario puede ser más desapegado emocionalmente, Leo tiende a ser más centrado en su identidad personal y búsqueda de seguridad emocional. Los individuos de Leo pueden buscar reconocimiento y destacarse en diferentes aspectos de su vida, es importante para ellos sentirse validados y apreciados por su entorno.\\n\\n3. Liderazgo y carisma: Si bien tanto Acuario como Leo pueden ser sociables, Leo posee un carisma natural y un magnetismo que les permite destacarse en una multitud. Los Leo suelen ser líderes y tienen una personalidad fuerte y enérgica que atrae a otras personas hacia ellos.\\n\\n4. Necesidad de reconocimiento y atención: Mientras que Acuario puede buscar la independencia y evitar la atención excesiva, Leo necesita y disfruta de la admiración y atención de los demás. Los Leo suelen ser personas muy seguras de sí mismos y buscan destacarse y recibir reconocimiento por sus logros y talentos.\\n\\n5. Fidelidad y lealtad: Aunque Acuario valora la independencia y puede ser más desprendido en las relaciones, los Leo suelen ser leales y comprometidos con sus seres queridos. Valorarán mucho las relaciones sólidas y suelen ser amigos y parejas leales y devotos.\\n\\nEstas son algunas características generales que suelen atribuirse a Leo, tomando en cuenta que son opuestas a las características de Acuario. Sin embargo, es importante recordar que cada individuo es único y puede variar dentro de su propio signo zodiacal.'"
      ]
     },
     "execution_count": 20,
     "metadata": {},
     "output_type": "execute_result"
    }
   ],
   "source": [
    "first_one_shoot_prompting"
   ]
  },
  {
   "cell_type": "markdown",
   "id": "04532e0a-5040-45f3-b62c-1838079f4ec7",
   "metadata": {},
   "source": [
    "3.2 Make a request (Fake characteristics of aquarian)"
   ]
  },
  {
   "cell_type": "code",
   "execution_count": 33,
   "id": "37b13e9b-5920-40eb-8107-e9a79ebc86a0",
   "metadata": {},
   "outputs": [],
   "source": [
    "# Características de Acuario\n",
    "fake_aquarian_characteristics = \"puede volar en un tapiz mágico impulsado por risas, habla en lenguaje de mariposas intergalácticas, tiene un tercer ojo que ve el futuro de las plantas, se comunica con los unicornios a través de bailes cósmicos\"\n",
    "\n",
    "#prompt (text/user's question) - One shoot prompting (otherwise than Leo)\n",
    "prompt2 = f\"Genera las características astrológicas de Leo, considerando que Acuario es un signo imaginativo con habilidades como {fake_aquarian_characteristics}. ¿Cómo sería un Leo que se oponga completamente a estas características?\""
   ]
  },
  {
   "cell_type": "markdown",
   "id": "71cea88b-79d5-4876-b536-cf3fa2aa2e9a",
   "metadata": {},
   "source": [
    "4.1 Settings"
   ]
  },
  {
   "cell_type": "code",
   "execution_count": 34,
   "id": "fb4f5c0d-7164-4daa-bfc3-d84e5ff691d1",
   "metadata": {},
   "outputs": [
    {
     "name": "stdout",
     "output_type": "stream",
     "text": [
      "assistant: Un Leo que se oponga completamente a estas características astrológicas sería alguien que se muestra poco imaginativo y rechaza el mundo de la fantasía. Sería una persona que, en lugar de volar en un tapiz mágico impulsado por risas, prefiere mantener los pies en la tierra y enfocarse en aspectos más concretos de la realidad. Además, en lugar de hablar en lenguaje de mariposas intergalácticas, este Leo se expresa de manera directa y sin adornos, utilizando un lenguaje sencillo y práctico. En lugar de tener un tercer ojo que ve el futuro de las plantas, este Leo se enfocaría en el presente y en los aspectos más tangibles de la vida. Por último, en lugar de comunicarse con los unicornios a través de bailes cósmicos, este Leo preferiría interactuar con los demás de una manera más convencional y pragmática.\n"
     ]
    }
   ],
   "source": [
    "# Make the request\n",
    "conversation2 = [{\"role\": \"user\", \"content\": prompt2}] # One request\n",
    "\n",
    "\n",
    "# Make the request\n",
    "response_fake = openai.ChatCompletion.create(\n",
    "    model='gpt-3.5-turbo',\n",
    "    messages=conversation2,\n",
    "    max_tokens=500\n",
    ")\n",
    "\n",
    "message = response_fake.choices[0]['message']\n",
    "print(\"{}: {}\".format(message['role'], message['content']))"
   ]
  },
  {
   "cell_type": "code",
   "execution_count": 38,
   "id": "530b5b7e-1e90-4c75-a6ab-67d1b7a918bb",
   "metadata": {},
   "outputs": [],
   "source": [
    "#Storage the response in a variable to use it\n",
    "second_one_shoot_prompting = \"{}\".format(message['content'])"
   ]
  },
  {
   "cell_type": "code",
   "execution_count": 39,
   "id": "7881bda7-aa54-4c1e-a2db-2c1f17dbfdc1",
   "metadata": {},
   "outputs": [
    {
     "data": {
      "text/plain": [
       "'Un Leo que se oponga completamente a estas características astrológicas sería alguien que se muestra poco imaginativo y rechaza el mundo de la fantasía. Sería una persona que, en lugar de volar en un tapiz mágico impulsado por risas, prefiere mantener los pies en la tierra y enfocarse en aspectos más concretos de la realidad. Además, en lugar de hablar en lenguaje de mariposas intergalácticas, este Leo se expresa de manera directa y sin adornos, utilizando un lenguaje sencillo y práctico. En lugar de tener un tercer ojo que ve el futuro de las plantas, este Leo se enfocaría en el presente y en los aspectos más tangibles de la vida. Por último, en lugar de comunicarse con los unicornios a través de bailes cósmicos, este Leo preferiría interactuar con los demás de una manera más convencional y pragmática.'"
      ]
     },
     "execution_count": 39,
     "metadata": {},
     "output_type": "execute_result"
    }
   ],
   "source": [
    "second_one_shoot_prompting"
   ]
  },
  {
   "cell_type": "code",
   "execution_count": 49,
   "id": "f0bf4daa-6a62-4884-91e6-dcad5193f37d",
   "metadata": {},
   "outputs": [
    {
     "name": "stdout",
     "output_type": "stream",
     "text": [
      "\n",
      "\u001b[1mCaracterísticas en un contexto real:\u001b[0m Las características opuestas de Leo, en comparación con Acuario, podrían ser las siguientes:\n",
      "\n",
      "1. Generoso y apegado a la tradición: Mientras que Acuario tiende a ser independiente y busca romper con las normas establecidas, Leo puede ser más generoso y estar fuertemente apegado a la tradición. Los Leo pueden ser personas que disfrutan dar y recibir regalos, y les gusta mantener las tradiciones familiares o culturales.\n",
      "\n",
      "2. Identidad personal y seguridad emocional: Aunque Acuario puede ser más desapegado emocionalmente, Leo tiende a ser más centrado en su identidad personal y búsqueda de seguridad emocional. Los individuos de Leo pueden buscar reconocimiento y destacarse en diferentes aspectos de su vida, es importante para ellos sentirse validados y apreciados por su entorno.\n",
      "\n",
      "3. Liderazgo y carisma: Si bien tanto Acuario como Leo pueden ser sociables, Leo posee un carisma natural y un magnetismo que les permite destacarse en una multitud. Los Leo suelen ser líderes y tienen una personalidad fuerte y enérgica que atrae a otras personas hacia ellos.\n",
      "\n",
      "4. Necesidad de reconocimiento y atención: Mientras que Acuario puede buscar la independencia y evitar la atención excesiva, Leo necesita y disfruta de la admiración y atención de los demás. Los Leo suelen ser personas muy seguras de sí mismos y buscan destacarse y recibir reconocimiento por sus logros y talentos.\n",
      "\n",
      "5. Fidelidad y lealtad: Aunque Acuario valora la independencia y puede ser más desprendido en las relaciones, los Leo suelen ser leales y comprometidos con sus seres queridos. Valorarán mucho las relaciones sólidas y suelen ser amigos y parejas leales y devotos.\n",
      "\n",
      "Estas son algunas características generales que suelen atribuirse a Leo, tomando en cuenta que son opuestas a las características de Acuario. Sin embargo, es importante recordar que cada individuo es único y puede variar dentro de su propio signo zodiacal.\n",
      "\n",
      "\u001b[1mCaracterísticas en un contexto fantástico:\u001b[0m\n",
      "\n",
      " Un Leo que se oponga completamente a estas características astrológicas sería alguien que se muestra poco imaginativo y rechaza el mundo de la fantasía. Sería una persona que, en lugar de volar en un tapiz mágico impulsado por risas, prefiere mantener los pies en la tierra y enfocarse en aspectos más concretos de la realidad. Además, en lugar de hablar en lenguaje de mariposas intergalácticas, este Leo se expresa de manera directa y sin adornos, utilizando un lenguaje sencillo y práctico. En lugar de tener un tercer ojo que ve el futuro de las plantas, este Leo se enfocaría en el presente y en los aspectos más tangibles de la vida. Por último, en lugar de comunicarse con los unicornios a través de bailes cósmicos, este Leo preferiría interactuar con los demás de una manera más convencional y pragmática.\n"
     ]
    }
   ],
   "source": [
    "# Características en un contexto real\n",
    "print(\"\\n\\033[1mCaracterísticas en un contexto real:\\033[0m\", first_one_shoot_prompting)\n",
    "\n",
    "# Características en un contexto fantástico\n",
    "print(\"\\n\\033[1mCaracterísticas en un contexto fantástico:\\033[0m\\n\\n\", second_one_shoot_prompting)\n"
   ]
  },
  {
   "cell_type": "code",
   "execution_count": null,
   "id": "bb40e1aa-4316-488d-9dbe-b256ccbb50e3",
   "metadata": {},
   "outputs": [],
   "source": []
  }
 ],
 "metadata": {
  "kernelspec": {
   "display_name": "Python 3 (ipykernel)",
   "language": "python",
   "name": "python3"
  },
  "language_info": {
   "codemirror_mode": {
    "name": "ipython",
    "version": 3
   },
   "file_extension": ".py",
   "mimetype": "text/x-python",
   "name": "python",
   "nbconvert_exporter": "python",
   "pygments_lexer": "ipython3",
   "version": "3.10.13"
  }
 },
 "nbformat": 4,
 "nbformat_minor": 5
}
