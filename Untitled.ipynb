{
 "cells": [
  {
   "cell_type": "markdown",
   "id": "2776d58c-73e1-429b-90ba-0bc2e871935a",
   "metadata": {},
   "source": [
    "### Introduccion"
   ]
  },
  {
   "cell_type": "code",
   "execution_count": 1,
   "id": "8494b79e-11d9-41b8-ad7c-f13615eb785c",
   "metadata": {},
   "outputs": [],
   "source": [
    "nombre = \"Ezequiel\"\n",
    "apellido = \"Tartaglia\"\n",
    "edad = 30\n",
    "mascota = \"Scooby\""
   ]
  },
  {
   "cell_type": "code",
   "execution_count": 3,
   "id": "dfe05131-b8ba-454a-a061-279813c480c9",
   "metadata": {},
   "outputs": [
    {
     "name": "stdout",
     "output_type": "stream",
     "text": [
      "Ezequiel\n",
      "Tartaglia\n",
      "30\n",
      "Scooby\n"
     ]
    }
   ],
   "source": [
    "print(nombre)\n",
    "print(apellido)\n",
    "print(edad)\n",
    "print(mascota)"
   ]
  },
  {
   "cell_type": "markdown",
   "id": "3dcc0577-6124-4ec9-863e-c9c63a747969",
   "metadata": {},
   "source": [
    "Condiciones"
   ]
  },
  {
   "cell_type": "code",
   "execution_count": 11,
   "id": "d2d5ba87-6f76-4316-b816-3a2f9c6e141a",
   "metadata": {},
   "outputs": [
    {
     "name": "stdout",
     "output_type": "stream",
     "text": [
      "Hola Pepe\n"
     ]
    }
   ],
   "source": [
    "if (nombre == \"Ezequiel\"):\n",
    "    print(\"Hola Ezequiel\")\n",
    "elif (nombre == \"Pepe\"):\n",
    "    print(\"Hola Pepe\")\n",
    "else:\n",
    "    print(\"Hola otra persona\")"
   ]
  },
  {
   "cell_type": "code",
   "execution_count": 16,
   "id": "522088f4-06e3-4baa-bec6-b9a47ca4526a",
   "metadata": {},
   "outputs": [
    {
     "name": "stdin",
     "output_type": "stream",
     "text": [
      "¿Cual es tu pais, Ezequiel? Colombia\n"
     ]
    }
   ],
   "source": [
    "pais = input(f\"¿Cual es tu pais, {nombre}?\")"
   ]
  },
  {
   "cell_type": "code",
   "execution_count": 17,
   "id": "0b3bae5d-7f2f-447a-8d8d-903c65a8bf75",
   "metadata": {},
   "outputs": [
    {
     "name": "stdout",
     "output_type": "stream",
     "text": [
      "Colombia\n"
     ]
    }
   ],
   "source": [
    "print(pais)"
   ]
  },
  {
   "cell_type": "markdown",
   "id": "4d7bafb0-bc75-4f5c-825b-29af9098f732",
   "metadata": {},
   "source": [
    "# Ciclos"
   ]
  },
  {
   "cell_type": "code",
   "execution_count": 5,
   "id": "81593d6c-1849-409b-b06b-e05d4265d013",
   "metadata": {},
   "outputs": [
    {
     "name": "stdin",
     "output_type": "stream",
     "text": [
      "Ingresa una receta \n",
      "Ingresa una receta \n",
      "Ingresa una receta \n",
      "Ingresa una receta \n",
      "Ingresa una receta \n",
      "Ingresa una receta \n",
      "Ingresa una receta \n",
      "Ingresa una receta \n",
      "Ingresa una receta \n",
      "Ingresa una receta \n",
      "Ingresa una receta \n",
      "Ingresa una receta j\n"
     ]
    },
    {
     "name": "stdout",
     "output_type": "stream",
     "text": [
      "Salimos del ciclo while\n"
     ]
    }
   ],
   "source": [
    "while_condition = True\n",
    "receipt = \"\"\n",
    "while receipt == \"\" :\n",
    "   receipt = input(\"Ingresa una receta\")\n",
    "    \n",
    "print(\"Salimos del ciclo while\")"
   ]
  },
  {
   "cell_type": "code",
   "execution_count": 11,
   "id": "39e54e6a-cb25-4c75-8580-1bd570de28d7",
   "metadata": {},
   "outputs": [
    {
     "name": "stdout",
     "output_type": "stream",
     "text": [
      "['Manzana', 'Banana', 'Limon']\n",
      "Manzana\n",
      "Banana\n",
      "Limon\n"
     ]
    }
   ],
   "source": [
    "list = [\"Manzana\", \"Banana\", \"Limon\"]\n",
    "counter = 0\n",
    "print(list)\n",
    "\n",
    "for i in list:\n",
    "    print(i)\n"
   ]
  },
  {
   "cell_type": "markdown",
   "id": "7aee051e-91c3-4009-87fc-adbbedac02b3",
   "metadata": {},
   "source": [
    "# Functions (def)"
   ]
  },
  {
   "cell_type": "code",
   "execution_count": 31,
   "id": "030ea7a8-a2a5-464a-9f3a-305fc11f263f",
   "metadata": {},
   "outputs": [],
   "source": [
    "def nombrar_elementos_de_lista(lista_a_nombrar):\n",
    "    for i in lista_a_nombrar:\n",
    "        print(i)\n"
   ]
  },
  {
   "cell_type": "code",
   "execution_count": 39,
   "id": "5c0cb9b3-2756-40e0-9e87-2224348ff3c2",
   "metadata": {},
   "outputs": [
    {
     "name": "stdout",
     "output_type": "stream",
     "text": [
      "Manzana\n",
      "Banana\n",
      "Limon\n"
     ]
    }
   ],
   "source": [
    "list = [\"Manzana\", \"Banana\", \"Limon\"]\n",
    "list_of_numbers = [2, 54,982,8]\n",
    "sorted_numbers_list = sorted(list_of_numbers)\n",
    "\n",
    "nombrar_elementos_de_lista(list)"
   ]
  },
  {
   "cell_type": "code",
   "execution_count": 40,
   "id": "6b219b03-b024-43c6-a2a0-092bf7ad0cb8",
   "metadata": {},
   "outputs": [
    {
     "name": "stdout",
     "output_type": "stream",
     "text": [
      "2\n",
      "8\n",
      "54\n",
      "982\n"
     ]
    }
   ],
   "source": [
    "nombrar_elementos_de_lista(sorted_numbers_list)"
   ]
  },
  {
   "cell_type": "code",
   "execution_count": 44,
   "id": "1690ed5d-5738-4033-a7c1-a93a3d79b977",
   "metadata": {},
   "outputs": [],
   "source": [
    "def elegir_funcionalidad_del_agente(user_choice):\n",
    "    if user_choice == \"1\":\n",
    "        nombrar_elementos_de_lista(sorted_numbers_list)\n",
    "    if user_choice == \"2\":\n",
    "        nombrar_elementos_de_lista(list)"
   ]
  },
  {
   "cell_type": "code",
   "execution_count": 45,
   "id": "d8e098e4-04ea-4d9a-90bc-0d86697daaad",
   "metadata": {},
   "outputs": [
    {
     "name": "stdout",
     "output_type": "stream",
     "text": [
      "2\n",
      "8\n",
      "54\n",
      "982\n"
     ]
    }
   ],
   "source": [
    "elegir_funcionalidad_del_agente(\"1\")"
   ]
  },
  {
   "cell_type": "code",
   "execution_count": 46,
   "id": "bd1f7bcf-a382-4f32-a04b-475a92102f75",
   "metadata": {},
   "outputs": [
    {
     "name": "stdout",
     "output_type": "stream",
     "text": [
      "Manzana\n",
      "Banana\n",
      "Limon\n"
     ]
    }
   ],
   "source": [
    "elegir_funcionalidad_del_agente(\"2\")"
   ]
  },
  {
   "cell_type": "code",
   "execution_count": null,
   "id": "d706864a-bb5f-4932-a381-423700e1e161",
   "metadata": {},
   "outputs": [],
   "source": []
  }
 ],
 "metadata": {
  "kernelspec": {
   "display_name": "Python 3 (ipykernel)",
   "language": "python",
   "name": "python3"
  },
  "language_info": {
   "codemirror_mode": {
    "name": "ipython",
    "version": 3
   },
   "file_extension": ".py",
   "mimetype": "text/x-python",
   "name": "python",
   "nbconvert_exporter": "python",
   "pygments_lexer": "ipython3",
   "version": "3.10.13"
  }
 },
 "nbformat": 4,
 "nbformat_minor": 5
}
